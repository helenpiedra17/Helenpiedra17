{
  "cells": [
    {
      "cell_type": "markdown",
      "metadata": {
        "id": "pxFPNerzM0Bh"
      },
      "source": [
        "### Assignment 2: Linear regression"
      ]
    },
    {
      "cell_type": "markdown",
      "metadata": {
        "id": "cXGyw3M_f08V"
      },
      "source": [
        "**In this assignment, we will see:**\n",
        "- how to assess the impact of an experimental factor on our experimental measurement using **linear regression**\n",
        "- how to check the validity of linear regression assumptions in a dataset\n",
        "- how to **design regressors** to answer a specific scientific question\n",
        "- how to take into account the hetereogeneity of our sample population using **linear mixed models**"
      ]
    },
    {
      "cell_type": "markdown",
      "metadata": {
        "id": "pFNulIKXf08X"
      },
      "source": [
        "<div class=\"alert alert-block alert-warning\">\n",
        "<b>Preparing for this assignment:</b>\n",
        "\n",
        "The following resources will help you to get ready to complete this assignment.\n",
        "<ul>\n",
        "    <li>Watch <a href=\"https://www.youtube.com/watch?v=KsVBBJRb9TE\" target=\"_blank\">this video</a> and then follow with <a href=\"https://www.youtube.com/watch?v=xIDjj6ZyFuw\" target=\"_blank\">this video</a> to learn the concepts about simple linear regression</li>\n",
        "    <li>For a complementary look on linear regression that put its into the more general framework of model fitting, watch <a href=\"https://www.youtube.com/watch?v=9JfXKmVB6qc\" target=\"_blank\">this video</a> (until 15:10) and then follow with <a href=\"https://www.youtube.com/watch?v=HumajfjJ37E\" target=\"_blank\">this video</a> (linear regression by minimizing squared errors) and <a href=\"https://www.youtube.com/watch?v=8mpNmzLKNfU\" target=\"_blank\">this one</a> (linear regression by maximizing likelihood). These are parts of the material for Model Fitting day from Neuromatch Academy which are accessible <a href=\"https://compneuro.neuromatch.io/tutorials/W1D2_ModelFitting/chapter_title.html\" target=\"_blank\">here</a>. </li>\n",
        "    <li> (Very optional) See <a href=\"https://www.cns.nyu.edu/~eero/NOTES/leastSquares.pdf\" target=\"_blank\">these notes</a> from Eero Simoncelli (NYU) if you want to delve more into the mathematics related to linear regression</li>\n",
        "</ul>\n",
        "</div>"
      ]
    },
    {
      "cell_type": "markdown",
      "metadata": {
        "id": "Lie0K9Huf08Z"
      },
      "source": [
        "## Load the numerical judgment dataset"
      ]
    },
    {
      "cell_type": "markdown",
      "metadata": {
        "id": "IcuLckQyf08a"
      },
      "source": [
        "We will now use the dataset from the other experiment from the article that we used in the previous two tutorials (Talluri et al.,*Current Biology*): the **numerical judgment dataset**. The paradigm is presented in Figure 3 of the [article](https://www.cell.com/action/showPdf?pii=S0960-9822%2818%2930982-5). The structure of each trial is conceptually identical to the orientation judgment task:\n",
        "- first, a stimulus (here a sequence of number)\n",
        "- a discrimination task on this first stimulus (is the mean larger than 50?)\n",
        "- then a second stimulus (another sequence of numbers)\n",
        "- finally, a numerical judgment task (report the mean over the *two* sequences).\n",
        "\n",
        "We will address with linear regression the scientific question under focus in the original article: **is the judgment task corrupted by a confirmatory bias, i.e. a tendency to align their judgment with the intermediate choice?**. More specifically, we will ask **whether subjects downweight evidence from the second stimulus if it is at odds with their intermediate choice** (i.e. if their intermediate choice was \">50\" and numbers in the second stimuli are small). The analyses we run will be a simplified version of the analyses in the original article.\n",
        "\n",
        "Load the data as a Pandas dataframe (as in Assignment 1). `x1` now represents the average value of numbers in the first sequence, and correspondingly for `x2`. Note also that this dataframe has one extra column, `binchoice`, which codes for the response of the subject on the classification task after stimulus 1 (-1: \"<50\"; 1: \">50\")."
      ]
    },
    {
      "cell_type": "code",
      "execution_count": 1,
      "metadata": {
        "scrolled": true,
        "id": "r6G9bg6ff08b",
        "outputId": "daaec351-8870-4ec9-da6a-23297dc1b5b4",
        "colab": {
          "base_uri": "https://localhost:8080/",
          "height": 206
        }
      },
      "outputs": [
        {
          "output_type": "execute_result",
          "data": {
            "text/plain": [
              "       x1  binchoice      x2     xavg  estim  subj\n",
              "0  45.375         -1  41.625  43.5000     44     1\n",
              "1  47.500          1  38.625  43.0625     41     1\n",
              "2  47.750          1  57.500  52.6250     54     1\n",
              "3  46.625         -1  38.375  42.5000     40     1\n",
              "4  47.250         -1  41.375  44.3125     45     1"
            ],
            "text/html": [
              "\n",
              "  <div id=\"df-4d7f260b-98a6-439e-9c70-f8189c854516\" class=\"colab-df-container\">\n",
              "    <div>\n",
              "<style scoped>\n",
              "    .dataframe tbody tr th:only-of-type {\n",
              "        vertical-align: middle;\n",
              "    }\n",
              "\n",
              "    .dataframe tbody tr th {\n",
              "        vertical-align: top;\n",
              "    }\n",
              "\n",
              "    .dataframe thead th {\n",
              "        text-align: right;\n",
              "    }\n",
              "</style>\n",
              "<table border=\"1\" class=\"dataframe\">\n",
              "  <thead>\n",
              "    <tr style=\"text-align: right;\">\n",
              "      <th></th>\n",
              "      <th>x1</th>\n",
              "      <th>binchoice</th>\n",
              "      <th>x2</th>\n",
              "      <th>xavg</th>\n",
              "      <th>estim</th>\n",
              "      <th>subj</th>\n",
              "    </tr>\n",
              "  </thead>\n",
              "  <tbody>\n",
              "    <tr>\n",
              "      <th>0</th>\n",
              "      <td>45.375</td>\n",
              "      <td>-1</td>\n",
              "      <td>41.625</td>\n",
              "      <td>43.5000</td>\n",
              "      <td>44</td>\n",
              "      <td>1</td>\n",
              "    </tr>\n",
              "    <tr>\n",
              "      <th>1</th>\n",
              "      <td>47.500</td>\n",
              "      <td>1</td>\n",
              "      <td>38.625</td>\n",
              "      <td>43.0625</td>\n",
              "      <td>41</td>\n",
              "      <td>1</td>\n",
              "    </tr>\n",
              "    <tr>\n",
              "      <th>2</th>\n",
              "      <td>47.750</td>\n",
              "      <td>1</td>\n",
              "      <td>57.500</td>\n",
              "      <td>52.6250</td>\n",
              "      <td>54</td>\n",
              "      <td>1</td>\n",
              "    </tr>\n",
              "    <tr>\n",
              "      <th>3</th>\n",
              "      <td>46.625</td>\n",
              "      <td>-1</td>\n",
              "      <td>38.375</td>\n",
              "      <td>42.5000</td>\n",
              "      <td>40</td>\n",
              "      <td>1</td>\n",
              "    </tr>\n",
              "    <tr>\n",
              "      <th>4</th>\n",
              "      <td>47.250</td>\n",
              "      <td>-1</td>\n",
              "      <td>41.375</td>\n",
              "      <td>44.3125</td>\n",
              "      <td>45</td>\n",
              "      <td>1</td>\n",
              "    </tr>\n",
              "  </tbody>\n",
              "</table>\n",
              "</div>\n",
              "    <div class=\"colab-df-buttons\">\n",
              "\n",
              "  <div class=\"colab-df-container\">\n",
              "    <button class=\"colab-df-convert\" onclick=\"convertToInteractive('df-4d7f260b-98a6-439e-9c70-f8189c854516')\"\n",
              "            title=\"Convert this dataframe to an interactive table.\"\n",
              "            style=\"display:none;\">\n",
              "\n",
              "  <svg xmlns=\"http://www.w3.org/2000/svg\" height=\"24px\" viewBox=\"0 -960 960 960\">\n",
              "    <path d=\"M120-120v-720h720v720H120Zm60-500h600v-160H180v160Zm220 220h160v-160H400v160Zm0 220h160v-160H400v160ZM180-400h160v-160H180v160Zm440 0h160v-160H620v160ZM180-180h160v-160H180v160Zm440 0h160v-160H620v160Z\"/>\n",
              "  </svg>\n",
              "    </button>\n",
              "\n",
              "  <style>\n",
              "    .colab-df-container {\n",
              "      display:flex;\n",
              "      gap: 12px;\n",
              "    }\n",
              "\n",
              "    .colab-df-convert {\n",
              "      background-color: #E8F0FE;\n",
              "      border: none;\n",
              "      border-radius: 50%;\n",
              "      cursor: pointer;\n",
              "      display: none;\n",
              "      fill: #1967D2;\n",
              "      height: 32px;\n",
              "      padding: 0 0 0 0;\n",
              "      width: 32px;\n",
              "    }\n",
              "\n",
              "    .colab-df-convert:hover {\n",
              "      background-color: #E2EBFA;\n",
              "      box-shadow: 0px 1px 2px rgba(60, 64, 67, 0.3), 0px 1px 3px 1px rgba(60, 64, 67, 0.15);\n",
              "      fill: #174EA6;\n",
              "    }\n",
              "\n",
              "    .colab-df-buttons div {\n",
              "      margin-bottom: 4px;\n",
              "    }\n",
              "\n",
              "    [theme=dark] .colab-df-convert {\n",
              "      background-color: #3B4455;\n",
              "      fill: #D2E3FC;\n",
              "    }\n",
              "\n",
              "    [theme=dark] .colab-df-convert:hover {\n",
              "      background-color: #434B5C;\n",
              "      box-shadow: 0px 1px 3px 1px rgba(0, 0, 0, 0.15);\n",
              "      filter: drop-shadow(0px 1px 2px rgba(0, 0, 0, 0.3));\n",
              "      fill: #FFFFFF;\n",
              "    }\n",
              "  </style>\n",
              "\n",
              "    <script>\n",
              "      const buttonEl =\n",
              "        document.querySelector('#df-4d7f260b-98a6-439e-9c70-f8189c854516 button.colab-df-convert');\n",
              "      buttonEl.style.display =\n",
              "        google.colab.kernel.accessAllowed ? 'block' : 'none';\n",
              "\n",
              "      async function convertToInteractive(key) {\n",
              "        const element = document.querySelector('#df-4d7f260b-98a6-439e-9c70-f8189c854516');\n",
              "        const dataTable =\n",
              "          await google.colab.kernel.invokeFunction('convertToInteractive',\n",
              "                                                    [key], {});\n",
              "        if (!dataTable) return;\n",
              "\n",
              "        const docLinkHtml = 'Like what you see? Visit the ' +\n",
              "          '<a target=\"_blank\" href=https://colab.research.google.com/notebooks/data_table.ipynb>data table notebook</a>'\n",
              "          + ' to learn more about interactive tables.';\n",
              "        element.innerHTML = '';\n",
              "        dataTable['output_type'] = 'display_data';\n",
              "        await google.colab.output.renderOutput(dataTable, element);\n",
              "        const docLink = document.createElement('div');\n",
              "        docLink.innerHTML = docLinkHtml;\n",
              "        element.appendChild(docLink);\n",
              "      }\n",
              "    </script>\n",
              "  </div>\n",
              "\n",
              "\n",
              "<div id=\"df-a0c50666-bc41-4b14-ada9-6ac4f485a1a6\">\n",
              "  <button class=\"colab-df-quickchart\" onclick=\"quickchart('df-a0c50666-bc41-4b14-ada9-6ac4f485a1a6')\"\n",
              "            title=\"Suggest charts\"\n",
              "            style=\"display:none;\">\n",
              "\n",
              "<svg xmlns=\"http://www.w3.org/2000/svg\" height=\"24px\"viewBox=\"0 0 24 24\"\n",
              "     width=\"24px\">\n",
              "    <g>\n",
              "        <path d=\"M19 3H5c-1.1 0-2 .9-2 2v14c0 1.1.9 2 2 2h14c1.1 0 2-.9 2-2V5c0-1.1-.9-2-2-2zM9 17H7v-7h2v7zm4 0h-2V7h2v10zm4 0h-2v-4h2v4z\"/>\n",
              "    </g>\n",
              "</svg>\n",
              "  </button>\n",
              "\n",
              "<style>\n",
              "  .colab-df-quickchart {\n",
              "      --bg-color: #E8F0FE;\n",
              "      --fill-color: #1967D2;\n",
              "      --hover-bg-color: #E2EBFA;\n",
              "      --hover-fill-color: #174EA6;\n",
              "      --disabled-fill-color: #AAA;\n",
              "      --disabled-bg-color: #DDD;\n",
              "  }\n",
              "\n",
              "  [theme=dark] .colab-df-quickchart {\n",
              "      --bg-color: #3B4455;\n",
              "      --fill-color: #D2E3FC;\n",
              "      --hover-bg-color: #434B5C;\n",
              "      --hover-fill-color: #FFFFFF;\n",
              "      --disabled-bg-color: #3B4455;\n",
              "      --disabled-fill-color: #666;\n",
              "  }\n",
              "\n",
              "  .colab-df-quickchart {\n",
              "    background-color: var(--bg-color);\n",
              "    border: none;\n",
              "    border-radius: 50%;\n",
              "    cursor: pointer;\n",
              "    display: none;\n",
              "    fill: var(--fill-color);\n",
              "    height: 32px;\n",
              "    padding: 0;\n",
              "    width: 32px;\n",
              "  }\n",
              "\n",
              "  .colab-df-quickchart:hover {\n",
              "    background-color: var(--hover-bg-color);\n",
              "    box-shadow: 0 1px 2px rgba(60, 64, 67, 0.3), 0 1px 3px 1px rgba(60, 64, 67, 0.15);\n",
              "    fill: var(--button-hover-fill-color);\n",
              "  }\n",
              "\n",
              "  .colab-df-quickchart-complete:disabled,\n",
              "  .colab-df-quickchart-complete:disabled:hover {\n",
              "    background-color: var(--disabled-bg-color);\n",
              "    fill: var(--disabled-fill-color);\n",
              "    box-shadow: none;\n",
              "  }\n",
              "\n",
              "  .colab-df-spinner {\n",
              "    border: 2px solid var(--fill-color);\n",
              "    border-color: transparent;\n",
              "    border-bottom-color: var(--fill-color);\n",
              "    animation:\n",
              "      spin 1s steps(1) infinite;\n",
              "  }\n",
              "\n",
              "  @keyframes spin {\n",
              "    0% {\n",
              "      border-color: transparent;\n",
              "      border-bottom-color: var(--fill-color);\n",
              "      border-left-color: var(--fill-color);\n",
              "    }\n",
              "    20% {\n",
              "      border-color: transparent;\n",
              "      border-left-color: var(--fill-color);\n",
              "      border-top-color: var(--fill-color);\n",
              "    }\n",
              "    30% {\n",
              "      border-color: transparent;\n",
              "      border-left-color: var(--fill-color);\n",
              "      border-top-color: var(--fill-color);\n",
              "      border-right-color: var(--fill-color);\n",
              "    }\n",
              "    40% {\n",
              "      border-color: transparent;\n",
              "      border-right-color: var(--fill-color);\n",
              "      border-top-color: var(--fill-color);\n",
              "    }\n",
              "    60% {\n",
              "      border-color: transparent;\n",
              "      border-right-color: var(--fill-color);\n",
              "    }\n",
              "    80% {\n",
              "      border-color: transparent;\n",
              "      border-right-color: var(--fill-color);\n",
              "      border-bottom-color: var(--fill-color);\n",
              "    }\n",
              "    90% {\n",
              "      border-color: transparent;\n",
              "      border-bottom-color: var(--fill-color);\n",
              "    }\n",
              "  }\n",
              "</style>\n",
              "\n",
              "  <script>\n",
              "    async function quickchart(key) {\n",
              "      const quickchartButtonEl =\n",
              "        document.querySelector('#' + key + ' button');\n",
              "      quickchartButtonEl.disabled = true;  // To prevent multiple clicks.\n",
              "      quickchartButtonEl.classList.add('colab-df-spinner');\n",
              "      try {\n",
              "        const charts = await google.colab.kernel.invokeFunction(\n",
              "            'suggestCharts', [key], {});\n",
              "      } catch (error) {\n",
              "        console.error('Error during call to suggestCharts:', error);\n",
              "      }\n",
              "      quickchartButtonEl.classList.remove('colab-df-spinner');\n",
              "      quickchartButtonEl.classList.add('colab-df-quickchart-complete');\n",
              "    }\n",
              "    (() => {\n",
              "      let quickchartButtonEl =\n",
              "        document.querySelector('#df-a0c50666-bc41-4b14-ada9-6ac4f485a1a6 button');\n",
              "      quickchartButtonEl.style.display =\n",
              "        google.colab.kernel.accessAllowed ? 'block' : 'none';\n",
              "    })();\n",
              "  </script>\n",
              "</div>\n",
              "\n",
              "    </div>\n",
              "  </div>\n"
            ],
            "application/vnd.google.colaboratory.intrinsic+json": {
              "type": "dataframe",
              "variable_name": "df",
              "summary": "{\n  \"name\": \"df\",\n  \"rows\": 1738,\n  \"fields\": [\n    {\n      \"column\": \"x1\",\n      \"properties\": {\n        \"dtype\": \"number\",\n        \"std\": 3.5428135338669726,\n        \"min\": 44.25,\n        \"max\": 55.375,\n        \"num_unique_values\": 49,\n        \"samples\": [\n          45.5,\n          47.375,\n          50.5\n        ],\n        \"semantic_type\": \"\",\n        \"description\": \"\"\n      }\n    },\n    {\n      \"column\": \"binchoice\",\n      \"properties\": {\n        \"dtype\": \"number\",\n        \"std\": 0,\n        \"min\": -1,\n        \"max\": 1,\n        \"num_unique_values\": 2,\n        \"samples\": [\n          1,\n          -1\n        ],\n        \"semantic_type\": \"\",\n        \"description\": \"\"\n      }\n    },\n    {\n      \"column\": \"x2\",\n      \"properties\": {\n        \"dtype\": \"number\",\n        \"std\": 7.059139895181619,\n        \"min\": 37.625,\n        \"max\": 62.5,\n        \"num_unique_values\": 77,\n        \"samples\": [\n          41.375,\n          60.625\n        ],\n        \"semantic_type\": \"\",\n        \"description\": \"\"\n      }\n    },\n    {\n      \"column\": \"xavg\",\n      \"properties\": {\n        \"dtype\": \"number\",\n        \"std\": 4.123763788071366,\n        \"min\": 41.0,\n        \"max\": 58.0625,\n        \"num_unique_values\": 71,\n        \"samples\": [\n          51.25,\n          43.5\n        ],\n        \"semantic_type\": \"\",\n        \"description\": \"\"\n      }\n    },\n    {\n      \"column\": \"estim\",\n      \"properties\": {\n        \"dtype\": \"number\",\n        \"std\": 6,\n        \"min\": 27,\n        \"max\": 73,\n        \"num_unique_values\": 42,\n        \"samples\": [\n          38,\n          61\n        ],\n        \"semantic_type\": \"\",\n        \"description\": \"\"\n      }\n    },\n    {\n      \"column\": \"subj\",\n      \"properties\": {\n        \"dtype\": \"number\",\n        \"std\": 6,\n        \"min\": 1,\n        \"max\": 21,\n        \"num_unique_values\": 21,\n        \"samples\": [\n          1,\n          18\n        ],\n        \"semantic_type\": \"\",\n        \"description\": \"\"\n      }\n    }\n  ]\n}"
            }
          },
          "metadata": {},
          "execution_count": 1
        }
      ],
      "source": [
        "# import typical packages\n",
        "import numpy as np\n",
        "import matplotlib.pyplot as plt\n",
        "import pandas as pd\n",
        "\n",
        "# load the data from github\n",
        "df = pd.read_csv(\"https://raw.githubusercontent.com/wimmerlab/MBC_data_analysis/main/A2_LinearRegression/Task_Numerical.csv\",sep=',')\n",
        "\n",
        "# uncomment if you prefer to load the data locally\n",
        "#df = pd.read_csv(\"Task_Numerical.csv\",sep=',')\n",
        "\n",
        "# list of subjects\n",
        "subjects = np.unique(df.subj)\n",
        "\n",
        "df.head()"
      ]
    },
    {
      "cell_type": "markdown",
      "metadata": {
        "id": "fJB7Hy1Gf08f"
      },
      "source": [
        "## 1. Simple linear regression\n",
        "We will start by looking at the relationship between the subject report $y$ (i.e. variable `estim`, the reported mean at the end of the sequence) and a single measure: the mean over the whole sequence ``xavg``. We will assume a linear relationship: $y = \\beta_1 xavg + \\beta_0 + \\text{noise}$, where $\\beta_0$ is the intercept,  $\\beta_1$ is the slope, and the noise is zero-mean gaussian (with constant variance). This is the generative formula for simple linear regression. Our goal here is to estimate the values of the parameters $(\\beta_0,\\beta_1)$ from the data.\n",
        "\n",
        "### 1.1 Naive fitting\n",
        "To start with, we will adopt a naive strategy where we adjust manually the linear curve (i.e. the formula above, without the noise) so it captures the data as good as possible. This should give us more insight about the role of the intercept and slope.\n",
        "\n",
        "**Define a function that captures the linear relationship between xavg and y,  taking the intercept and slope as input.**"
      ]
    },
    {
      "cell_type": "code",
      "execution_count": 14,
      "metadata": {
        "id": "mxNvGYu1f08h"
      },
      "outputs": [],
      "source": [
        "def linear_function(x, beta0, beta1):\n",
        "    \"\"\"\n",
        "    Computes the linear function\n",
        "    Args:\n",
        "       X (array): value(s) of the regressor\n",
        "       beta0 (float): intercept\n",
        "       beta1 (float): slope\n",
        "    \"\"\"\n",
        "\n",
        "    # use linear relationship\n",
        "    y = x * beta1 + beta0\n",
        "\n",
        "    # output the result\n",
        "    return y"
      ]
    },
    {
      "cell_type": "markdown",
      "metadata": {
        "id": "6zwE20__f08i"
      },
      "source": [
        "Now **complete the code below and run the cell**. It plots the function with have just defined (red line), along with the data points from one subject (each blue point represents a single trial). **Adjust the value of the slides to best capture the relationship between the average stimulus and the report from the data**."
      ]
    },
    {
      "cell_type": "code",
      "execution_count": 28,
      "metadata": {
        "id": "VDC3izJpf08j",
        "outputId": "7bb441f8-4e51-4cfe-d17c-f5854be8ae1c",
        "colab": {
          "base_uri": "https://localhost:8080/",
          "height": 513,
          "referenced_widgets": [
            "50346513f3984231be0eed2495eea6d4",
            "0b59e37e4cde495c871473194d772b59",
            "fe37d22b15fe457fae93d2f9b4f86e81",
            "5a8342b4182f4767b34fd17630c3b45e",
            "35c74d1ad887415eb5fd88917011d10c",
            "d8a99bc9216d4b7ea77818abb79a4b58",
            "fce27af5b93a4e659d63d050c0f06a4d",
            "068a31f737794be8887fa2895e0a19a5",
            "e52e8512d08d4d9db1afed4a33e70ab6",
            "4f7696137fd8419c921aa4b0022630bf"
          ]
        }
      },
      "outputs": [
        {
          "output_type": "display_data",
          "data": {
            "text/plain": [
              "interactive(children=(FloatSlider(value=20.0, description='beta0', max=50.0), FloatSlider(value=0.1, descripti…"
            ],
            "application/vnd.jupyter.widget-view+json": {
              "version_major": 2,
              "version_minor": 0,
              "model_id": "50346513f3984231be0eed2495eea6d4"
            }
          },
          "metadata": {}
        }
      ],
      "source": [
        "import ipywidgets as widgets       # interactive display\n",
        "#@title\n",
        "\n",
        "#select data from subject 1\n",
        "df1 = df[df.subj == 1]\n",
        "\n",
        "#@markdown Make sure you execute this cell to enable the widget!\n",
        "\n",
        "@widgets.interact(\n",
        "    beta0 =widgets.FloatSlider(20, min=0, max=50), # default, min and max values for intercept\n",
        "    beta1 =widgets.FloatSlider(0.1, min=0.0, max=1.0)) # defaul, min and max values for slope\n",
        "\n",
        "def plot_data_estimate(beta0, beta1):\n",
        "\n",
        "    # set x-values for your prediction, linearly scaled values (could be just two as we're drawing a line)\n",
        "    x_data = np.linspace(35,65,10)\n",
        "\n",
        "    # given the values in x_data, predict y_data values from our model with given parameters\n",
        "    y_data = linear_function(x_data, beta0, beta1)\n",
        "\n",
        "    # plot\n",
        "    plt.plot(x_data, y_data, 'r') # plot the model prediction with a line\n",
        "    plt.plot(df1.xavg, df1.estim, 'bo') # now plot the true data from our dataframe df as dots\n",
        "    plt.xlabel('xavg');\n",
        "    plt.ylabel('estim');\n",
        "\n",
        "    # Add a dotted line indicating the identity line\n",
        "    plt.plot(x_data, x_data, linestyle='--', color='gray');\n",
        "\n",
        "    plt.show(); # needed in Colab"
      ]
    },
    {
      "cell_type": "markdown",
      "metadata": {
        "id": "Id-3msYsf08j"
      },
      "source": [
        "This was nice but we ignored the stochastic part of the linear regression model (the added Gaussian noise) which we would like to estimate as well, as it gives us an estimate of how much the model cannot explain about the data. To do so, we now need to simulate the model with noise and compare the distributions of points to the experimental one.\n",
        "First, **write a function that simulates the linear regression model (with noise), given some values of the regressor $xavg$ and parameter values**. Parameters now include the intercept $\\beta_0$, the slope $\\beta_1$ and also $\\sigma$, the standard deviation of the Gaussian noise. A Gaussian random variable can be drawn using `normal` from the `numpy` package."
      ]
    },
    {
      "cell_type": "code",
      "execution_count": 19,
      "metadata": {
        "id": "m2Npzq1uf08k"
      },
      "outputs": [],
      "source": [
        "#import function\n",
        "from numpy.random import normal\n",
        "\n",
        "# define function that simulates the linear regression model\n",
        "def generate_linear_model(x, intercept, slope, sigma):\n",
        "    \"\"\"\n",
        "    Simulates the simple linear model\n",
        "    Args:\n",
        "       X (array): value(s) of the regressor\n",
        "       beta0 (float): intercept\n",
        "       beta1 (float): slope\n",
        "       sigma (float): standard deviation of noise parameter\n",
        "    \"\"\"\n",
        "\n",
        "    # use linear relationship\n",
        "    y = x * slope + intercept\n",
        "\n",
        "    # add gaussian noise with standard deviation = sigma\n",
        "    n = len(x)\n",
        "    y = y + normal(0,sigma,n)\n",
        "\n",
        "    # output the result\n",
        "    return y"
      ]
    },
    {
      "cell_type": "markdown",
      "metadata": {
        "id": "-YcBYy2Sf08k"
      },
      "source": [
        "Now run the cell below where the black dots represent model simulations while blue dots represent the data. Play with the knobs and **adjust the parameter values to match the two distribution qualitatively**."
      ]
    },
    {
      "cell_type": "code",
      "execution_count": 21,
      "metadata": {
        "id": "2WnIUG-Nf08k",
        "outputId": "11f937c7-d8bc-4f98-ab13-94344c5dbb97",
        "colab": {
          "base_uri": "https://localhost:8080/",
          "height": 545,
          "referenced_widgets": [
            "9aa636bf773646ffa13e21a172dce78a",
            "bb6f173826294d7a94b961407724d315",
            "535ee623c8594ed3b6d7e504a678c0dc",
            "7cd6886afac5403f808f2acfda158495",
            "5dcc19d1f1f447ae846c6a4a31748327",
            "d3ce7e0772ae480281d4793722987c17",
            "f8a5671e83f248dd89c3cc6f8b55c52d",
            "1046621fb95c4ef8afee98cc60b9f8a8",
            "8c614eeef7b643b69e5ed8e0312524e1",
            "d1a778fbd1df4d1580f2862cb9047570",
            "03c435a8480d4ab18b7c336c2467f651",
            "ec114b9296e34e65b744a6ccbbb55ef1",
            "82d730b1d3cd4f8eb079633cd30f2ba4"
          ]
        }
      },
      "outputs": [
        {
          "output_type": "display_data",
          "data": {
            "text/plain": [
              "interactive(children=(FloatSlider(value=20.0, description='beta0', max=50.0), FloatSlider(value=0.1, descripti…"
            ],
            "application/vnd.jupyter.widget-view+json": {
              "version_major": 2,
              "version_minor": 0,
              "model_id": "9aa636bf773646ffa13e21a172dce78a"
            }
          },
          "metadata": {}
        }
      ],
      "source": [
        "@widgets.interact(\n",
        "    beta0 =widgets.FloatSlider(20, min=0, max=50), # default, min and max values for intercept\n",
        "    beta1 =widgets.FloatSlider(0.1, min=0.0, max=1.0), # defaul, min and max values for slope\n",
        "    sigma = widgets.FloatSlider(1, min=0.0, max=20.0)) # defaul, min and max values for noise\n",
        "\n",
        "def plot_simulated_vs_real_data_estimate(beta0, beta1, sigma):\n",
        "\n",
        "     # set x-values for your prediction, same as original dataset\n",
        "    x_data = df1.xavg\n",
        "\n",
        "     # given the values in x_data, predict y_data values from model with given parameters\n",
        "    y_data = generate_linear_model(x_data, beta0, beta1,sigma)\n",
        "\n",
        "    #plot\n",
        "    plt.plot(x_data, y_data, 'ko') # plot the model prediction with black dots\n",
        "    plt.plot(df1.xavg, df1.estim, 'bo') # now plot the true data from our dataframe df as blue dots\n",
        "    plt.xlabel('xavg');\n",
        "    plt.ylabel('estim');\n",
        "\n",
        "    # Add a dotted line indicating the identity line\n",
        "    plt.plot(x_data, x_data, linestyle='--', color='gray');\n",
        "\n",
        "    plt.show(); # needed in Colab"
      ]
    },
    {
      "cell_type": "markdown",
      "metadata": {
        "id": "MruGOHLtf08l"
      },
      "source": [
        "### 1.2 Least-square regression\n",
        "\n",
        "We will now use a more principled approach called Ordinary Least-Square (OLS) regression, which minimizes the overall estimation error of the linear model. More precisely, it looks for the parameters $(\\beta_0,\\beta_1)$ that minimizes the sum over trials of the squares of errors.\n",
        "**Run OLS regression for subject 1 and obtain the coefficients of the linear regression that fits the data.**\n",
        "\n",
        " We can run this analysis with the function `ols` in `statsmodel.formula.api`. You just need to specify the formula (the dependent variable on the left, and the regressor(s) on the right) and the dataframe for the corresponding data."
      ]
    },
    {
      "cell_type": "code",
      "execution_count": 25,
      "metadata": {
        "ExecuteTime": {
          "end_time": "2022-02-04T22:46:53.929474Z",
          "start_time": "2022-02-04T22:46:53.866909Z"
        },
        "colab": {
          "base_uri": "https://localhost:8080/"
        },
        "id": "dONKI852M0Ed",
        "outputId": "85a13a5a-72e8-48ef-f048-0c0bfd4bb233",
        "scrolled": true
      },
      "outputs": [
        {
          "output_type": "stream",
          "name": "stdout",
          "text": [
            "Coefficients: Intercept    21.133246\n",
            "xavg          0.658960\n",
            "dtype: float64\n"
          ]
        }
      ],
      "source": [
        "# import OLS from statsmodel package\n",
        "from statsmodels.formula.api import ols\n",
        "\n",
        "# define model formula and database (point to a dataframe)\n",
        "mod = ols(formula = 'estim ~ xavg', data= df1)\n",
        "\n",
        "# fit the model\n",
        "res = mod.fit()\n",
        "\n",
        "# The coefficients\n",
        "print('Coefficients:', res.params)"
      ]
    },
    {
      "cell_type": "markdown",
      "metadata": {
        "id": "x9WMEzaOf08l"
      },
      "source": [
        "You get a more complete summary using the command `summary`, including the $R^2$ (how much variance in the dependent variable does the model explains, from 0 to 1), and the confidence interval for each parameter - very useful if we want to determine if a weight is statistically different from 0 (check also the T-statistic)."
      ]
    },
    {
      "cell_type": "code",
      "execution_count": 26,
      "metadata": {
        "scrolled": true,
        "id": "hLQKtSDlf08l",
        "outputId": "ca9fb460-b2e0-43ae-c406-4f5d6e006df7",
        "colab": {
          "base_uri": "https://localhost:8080/",
          "height": 452
        }
      },
      "outputs": [
        {
          "output_type": "execute_result",
          "data": {
            "text/plain": [
              "<class 'statsmodels.iolib.summary.Summary'>\n",
              "\"\"\"\n",
              "                            OLS Regression Results                            \n",
              "==============================================================================\n",
              "Dep. Variable:                  estim   R-squared:                       0.251\n",
              "Model:                            OLS   Adj. R-squared:                  0.241\n",
              "Method:                 Least Squares   F-statistic:                     26.77\n",
              "Date:                Thu, 23 Jan 2025   Prob (F-statistic):           1.66e-06\n",
              "Time:                        14:42:03   Log-Likelihood:                -243.67\n",
              "No. Observations:                  82   AIC:                             491.3\n",
              "Df Residuals:                      80   BIC:                             496.2\n",
              "Df Model:                           1                                         \n",
              "Covariance Type:            nonrobust                                         \n",
              "==============================================================================\n",
              "                 coef    std err          t      P>|t|      [0.025      0.975]\n",
              "------------------------------------------------------------------------------\n",
              "Intercept     21.1332      6.473      3.265      0.002       8.252      34.015\n",
              "xavg           0.6590      0.127      5.174      0.000       0.406       0.912\n",
              "==============================================================================\n",
              "Omnibus:                        0.613   Durbin-Watson:                   1.426\n",
              "Prob(Omnibus):                  0.736   Jarque-Bera (JB):                0.579\n",
              "Skew:                           0.197   Prob(JB):                        0.749\n",
              "Kurtosis:                       2.879   Cond. No.                         623.\n",
              "==============================================================================\n",
              "\n",
              "Notes:\n",
              "[1] Standard Errors assume that the covariance matrix of the errors is correctly specified.\n",
              "\"\"\""
            ],
            "text/html": [
              "<table class=\"simpletable\">\n",
              "<caption>OLS Regression Results</caption>\n",
              "<tr>\n",
              "  <th>Dep. Variable:</th>          <td>estim</td>      <th>  R-squared:         </th> <td>   0.251</td>\n",
              "</tr>\n",
              "<tr>\n",
              "  <th>Model:</th>                   <td>OLS</td>       <th>  Adj. R-squared:    </th> <td>   0.241</td>\n",
              "</tr>\n",
              "<tr>\n",
              "  <th>Method:</th>             <td>Least Squares</td>  <th>  F-statistic:       </th> <td>   26.77</td>\n",
              "</tr>\n",
              "<tr>\n",
              "  <th>Date:</th>             <td>Thu, 23 Jan 2025</td> <th>  Prob (F-statistic):</th> <td>1.66e-06</td>\n",
              "</tr>\n",
              "<tr>\n",
              "  <th>Time:</th>                 <td>14:42:03</td>     <th>  Log-Likelihood:    </th> <td> -243.67</td>\n",
              "</tr>\n",
              "<tr>\n",
              "  <th>No. Observations:</th>      <td>    82</td>      <th>  AIC:               </th> <td>   491.3</td>\n",
              "</tr>\n",
              "<tr>\n",
              "  <th>Df Residuals:</th>          <td>    80</td>      <th>  BIC:               </th> <td>   496.2</td>\n",
              "</tr>\n",
              "<tr>\n",
              "  <th>Df Model:</th>              <td>     1</td>      <th>                     </th>     <td> </td>   \n",
              "</tr>\n",
              "<tr>\n",
              "  <th>Covariance Type:</th>      <td>nonrobust</td>    <th>                     </th>     <td> </td>   \n",
              "</tr>\n",
              "</table>\n",
              "<table class=\"simpletable\">\n",
              "<tr>\n",
              "      <td></td>         <th>coef</th>     <th>std err</th>      <th>t</th>      <th>P>|t|</th>  <th>[0.025</th>    <th>0.975]</th>  \n",
              "</tr>\n",
              "<tr>\n",
              "  <th>Intercept</th> <td>   21.1332</td> <td>    6.473</td> <td>    3.265</td> <td> 0.002</td> <td>    8.252</td> <td>   34.015</td>\n",
              "</tr>\n",
              "<tr>\n",
              "  <th>xavg</th>      <td>    0.6590</td> <td>    0.127</td> <td>    5.174</td> <td> 0.000</td> <td>    0.406</td> <td>    0.912</td>\n",
              "</tr>\n",
              "</table>\n",
              "<table class=\"simpletable\">\n",
              "<tr>\n",
              "  <th>Omnibus:</th>       <td> 0.613</td> <th>  Durbin-Watson:     </th> <td>   1.426</td>\n",
              "</tr>\n",
              "<tr>\n",
              "  <th>Prob(Omnibus):</th> <td> 0.736</td> <th>  Jarque-Bera (JB):  </th> <td>   0.579</td>\n",
              "</tr>\n",
              "<tr>\n",
              "  <th>Skew:</th>          <td> 0.197</td> <th>  Prob(JB):          </th> <td>   0.749</td>\n",
              "</tr>\n",
              "<tr>\n",
              "  <th>Kurtosis:</th>      <td> 2.879</td> <th>  Cond. No.          </th> <td>    623.</td>\n",
              "</tr>\n",
              "</table><br/><br/>Notes:<br/>[1] Standard Errors assume that the covariance matrix of the errors is correctly specified."
            ],
            "text/latex": "\\begin{center}\n\\begin{tabular}{lclc}\n\\toprule\n\\textbf{Dep. Variable:}    &      estim       & \\textbf{  R-squared:         } &     0.251   \\\\\n\\textbf{Model:}            &       OLS        & \\textbf{  Adj. R-squared:    } &     0.241   \\\\\n\\textbf{Method:}           &  Least Squares   & \\textbf{  F-statistic:       } &     26.77   \\\\\n\\textbf{Date:}             & Thu, 23 Jan 2025 & \\textbf{  Prob (F-statistic):} &  1.66e-06   \\\\\n\\textbf{Time:}             &     14:42:03     & \\textbf{  Log-Likelihood:    } &   -243.67   \\\\\n\\textbf{No. Observations:} &          82      & \\textbf{  AIC:               } &     491.3   \\\\\n\\textbf{Df Residuals:}     &          80      & \\textbf{  BIC:               } &     496.2   \\\\\n\\textbf{Df Model:}         &           1      & \\textbf{                     } &             \\\\\n\\textbf{Covariance Type:}  &    nonrobust     & \\textbf{                     } &             \\\\\n\\bottomrule\n\\end{tabular}\n\\begin{tabular}{lcccccc}\n                   & \\textbf{coef} & \\textbf{std err} & \\textbf{t} & \\textbf{P$> |$t$|$} & \\textbf{[0.025} & \\textbf{0.975]}  \\\\\n\\midrule\n\\textbf{Intercept} &      21.1332  &        6.473     &     3.265  &         0.002        &        8.252    &       34.015     \\\\\n\\textbf{xavg}      &       0.6590  &        0.127     &     5.174  &         0.000        &        0.406    &        0.912     \\\\\n\\bottomrule\n\\end{tabular}\n\\begin{tabular}{lclc}\n\\textbf{Omnibus:}       &  0.613 & \\textbf{  Durbin-Watson:     } &    1.426  \\\\\n\\textbf{Prob(Omnibus):} &  0.736 & \\textbf{  Jarque-Bera (JB):  } &    0.579  \\\\\n\\textbf{Skew:}          &  0.197 & \\textbf{  Prob(JB):          } &    0.749  \\\\\n\\textbf{Kurtosis:}      &  2.879 & \\textbf{  Cond. No.          } &     623.  \\\\\n\\bottomrule\n\\end{tabular}\n%\\caption{OLS Regression Results}\n\\end{center}\n\nNotes: \\newline\n [1] Standard Errors assume that the covariance matrix of the errors is correctly specified."
          },
          "metadata": {},
          "execution_count": 26
        }
      ],
      "source": [
        "#print the summary\n",
        "res.summary()"
      ]
    },
    {
      "cell_type": "markdown",
      "metadata": {
        "id": "flLFb1I8f08m"
      },
      "source": [
        "**Interpret the value of $R^2$.**"
      ]
    },
    {
      "cell_type": "markdown",
      "metadata": {
        "id": "2Dzra_4Af08m"
      },
      "source": [
        "*The R-squared of 0.251 indicates that  25.1% of the variation of xavg values can be attributed to estim value. The low 0.251 indicates that the model does not capture the variation of estim well.*"
      ]
    },
    {
      "cell_type": "markdown",
      "metadata": {
        "id": "Vs3KdZNlf08m"
      },
      "source": [
        "**How do the fitted coefficients compare to the ones we adjusted by hand?**"
      ]
    },
    {
      "cell_type": "markdown",
      "metadata": {
        "id": "8CahOvRTf08m"
      },
      "source": [
        "*The fitted coeeficients are similar, but more accuratw than the ones adjusted by hand in the interactive plot*"
      ]
    },
    {
      "cell_type": "markdown",
      "metadata": {
        "id": "Bk0lnbpmf08m"
      },
      "source": [
        "What about the noise parameter $\\sigma$? The estimated value is not provided directly in the table but we can easily compute it as the *root mean square error* (RMSE), i.e. $\\hat \\sigma = \\sqrt {\\frac 1 n \\sum_i e_i^2}$ where $ \\frac 1 n \\sum_i()$ refers to the mean over trials and $e_i$ is the *residual* (or error) for trial $i$, i.e. the difference on each trial between the expected value of the report (following the noiseless linear relationship) and the observed value.\n",
        "The array of residuals can be obtained using `res.resid`.\n",
        "**Compute the root mean square error.**"
      ]
    },
    {
      "cell_type": "code",
      "execution_count": 29,
      "metadata": {
        "id": "RUEetXqtf08n",
        "outputId": "9035e350-6c42-4f89-df14-9bd420cf01b4",
        "colab": {
          "base_uri": "https://localhost:8080/"
        }
      },
      "outputs": [
        {
          "output_type": "stream",
          "name": "stdout",
          "text": [
            "Root Mean Squared Error (RMSE): 4.724205577915148\n"
          ]
        }
      ],
      "source": [
        "# Compute the mean square error\n",
        "mse = np.mean(res.resid**2)\n",
        "\n",
        "# Take the square root\n",
        "rmse = np.sqrt(mse)\n",
        "\n",
        "print(\"Root Mean Squared Error (RMSE):\", rmse)"
      ]
    },
    {
      "cell_type": "markdown",
      "metadata": {
        "id": "cks1ykLMf08n"
      },
      "source": [
        "**Compare to the value of noise adjusted by hand.**"
      ]
    },
    {
      "cell_type": "markdown",
      "metadata": {
        "id": "QMohFFfkf08n"
      },
      "source": []
    },
    {
      "cell_type": "markdown",
      "metadata": {
        "id": "aAvWiNDnf08o"
      },
      "source": [
        "### 1.3 Analysis of residuals\n",
        "Should we believe these results?\n",
        "\n",
        "One of the underlying assumption when using linear regression is the **normal distribution of independent residual errors**. It basically means two things:\n",
        "- that the noise in the model should be independent from the value of the regressor (a property that goes by the ugly name of *homoskedasticity*). Sometimes this hypothesis is not met, usually because of outliers, and that can corrupt the result of our analysis. We can check whether this is the case *a posteriori* by looking at the profile of the residuals.  The variability of these residuals should not change depending on the regressor value (here, stimulus average).\n",
        "- That the noise comes a Gaussian distribution. For this, we can check a posterior that distribution the residuals is more or less Gaussian.\n",
        "\n",
        "Watch the [second video on linear regression above](https://youtu.be/xIDjj6ZyFuw?si=QES8GYRwbY4H8Lu0&t=290) to understand these checks.\n",
        "\n",
        "Let's perform the first check . **Check this by plotting a scatter plot of model residuals vs. the value of the regressor**. Note that this is basically equivalent to removing the linear trend from the scatter plot of (stimulus, response)."
      ]
    },
    {
      "cell_type": "code",
      "execution_count": 32,
      "metadata": {
        "id": "p9cQRp0Sf08o",
        "outputId": "bf4bc1c9-7b24-4f9c-f396-67b51215756a",
        "colab": {
          "base_uri": "https://localhost:8080/",
          "height": 449
        }
      },
      "outputs": [
        {
          "output_type": "display_data",
          "data": {
            "text/plain": [
              "<Figure size 640x480 with 1 Axes>"
            ],
            "image/png": "[encoded data removed]"
          },
          "metadata": {}
        }
      ],
      "source": [
        "plt.figure();\n",
        "\n",
        "# plot the independent variable vs the residuals\n",
        "plt.plot(df1.xavg, res.resid, 'bo')\n",
        "\n",
        "plt.ylabel('models residuals)');\n",
        "plt.xlabel('models independent variable (Xavg)');"
      ]
    },
    {
      "cell_type": "markdown",
      "metadata": {
        "id": "0PodCxSef08p"
      },
      "source": [
        "**What do we learn from this plot?**"
      ]
    },
    {
      "cell_type": "markdown",
      "metadata": {
        "id": "2IHbqYGuf08p"
      },
      "source": [
        "*The randomness of the dots in the scatterplot suggest normally, due to lack of patterns or clusters.*"
      ]
    },
    {
      "cell_type": "markdown",
      "metadata": {
        "id": "yHODZnfdf08q"
      },
      "source": [
        "Now let's perform the second check: that the residuals are normally distributed. **Plot the distribution of residuals.**"
      ]
    },
    {
      "cell_type": "code",
      "execution_count": 35,
      "metadata": {
        "id": "V5I1Flxyf08q",
        "outputId": "92d72f0c-40dc-44a8-83d9-93cade5574bd",
        "colab": {
          "base_uri": "https://localhost:8080/",
          "height": 449
        }
      },
      "outputs": [
        {
          "output_type": "display_data",
          "data": {
            "text/plain": [
              "<Figure size 640x480 with 1 Axes>"
            ],
            "image/png": "[encoded data removed]"
          },
          "metadata": {}
        }
      ],
      "source": [
        "plt.figure;\n",
        "plt.hist(res.resid, bins = 10)\n",
        "plt.xlabel('residuals');\n",
        "plt.ylabel('trial count');"
      ]
    },
    {
      "cell_type": "markdown",
      "metadata": {
        "id": "e19--DyRf08q"
      },
      "source": [
        "**What do you conclude?**"
      ]
    },
    {
      "cell_type": "markdown",
      "metadata": {
        "id": "k1ZufyGKf08r"
      },
      "source": [
        "*The bell shaped curve of the histogram suggests normality of the residuals*"
      ]
    },
    {
      "cell_type": "markdown",
      "metadata": {
        "id": "Pp25Jz5Gf08r"
      },
      "source": [
        "This can be done in a more principled manner using quantile-quantile plots with `probplot` (from the `scipy` package). This is some (nonlinear) rescaling the cumulative histogram of the residuals so that, if the residuals are indeed normally distributed, the curve (marked by blue points) should not depart too far from the (red) diagonal line. As you can see, this is the case (except perhaps the little deviation on the far right which is due to the two errors larger than 10 - those two trials may be outliers)."
      ]
    },
    {
      "cell_type": "code",
      "execution_count": 36,
      "metadata": {
        "scrolled": true,
        "id": "SQ0Y2MM-f08r",
        "outputId": "2b5cd602-0459-4cf0-aa5c-b42d8af79071",
        "colab": {
          "base_uri": "https://localhost:8080/",
          "height": 472
        }
      },
      "outputs": [
        {
          "output_type": "display_data",
          "data": {
            "text/plain": [
              "<Figure size 640x480 with 1 Axes>"
            ],
            "image/png": "[encoded data removed]"
          },
          "metadata": {}
        }
      ],
      "source": [
        "# import the function\n",
        "from scipy.stats import probplot\n",
        "\n",
        "# draw quantile-quantile plot\n",
        "plt.figure;\n",
        "probplot(res.resid, plot=plt);"
      ]
    },
    {
      "cell_type": "markdown",
      "metadata": {
        "id": "TjylbkOyf08z"
      },
      "source": [
        "**What do you conclude from all these checks?**"
      ]
    },
    {
      "cell_type": "markdown",
      "metadata": {
        "id": "q6WfDFIbf080"
      },
      "source": [
        "*After analyzing the qqplot, and taking into account the scatterplot and histogram, it can be confirmed that the residuals have a normal distribution*"
      ]
    },
    {
      "cell_type": "markdown",
      "metadata": {
        "id": "wmOm4Ld7f080"
      },
      "source": [
        "## 2. Multiple linear regression\n",
        "Multiple linear regression extends the framework above to **estimate jointly the impact of various regressors** (or *independent variables*) on the dependent variable. For example, the simple linear regression above used only the average of the two stimuli as a regressor, which implicitly assumes that both stimuli have the same impact on participant reports. But there is no reason to assume it, and indeed across many tasks humans and non-human subjects tend to weigh differently different pieces of information when they are provided sequentially. Sometimes they weigh more the earlier stimuli (*primacy effect*), sometimes they weigh more the later stimuli (*recency effect*), sometimes it's more complicated.\n",
        "We can estimate this using multiple linear regression where each stimuli are provided as independent regressors.\n",
        "**Implement this regression analysis, again for subject 1.** You basically just need to update the formula from the single linear model, replacing the single regressor with the sum of the two regressors."
      ]
    },
    {
      "cell_type": "code",
      "execution_count": 40,
      "metadata": {
        "id": "mELd7fLsf09X",
        "outputId": "60094f3c-d608-4c2c-e505-710f855a402d",
        "colab": {
          "base_uri": "https://localhost:8080/",
          "height": 508
        }
      },
      "outputs": [
        {
          "output_type": "execute_result",
          "data": {
            "text/plain": [
              "<class 'statsmodels.iolib.summary.Summary'>\n",
              "\"\"\"\n",
              "                            OLS Regression Results                            \n",
              "==============================================================================\n",
              "Dep. Variable:                  estim   R-squared:                       0.281\n",
              "Model:                            OLS   Adj. R-squared:                  0.263\n",
              "Method:                 Least Squares   F-statistic:                     15.46\n",
              "Date:                Thu, 23 Jan 2025   Prob (F-statistic):           2.15e-06\n",
              "Time:                        15:09:06   Log-Likelihood:                -241.96\n",
              "No. Observations:                  82   AIC:                             489.9\n",
              "Df Residuals:                      79   BIC:                             497.1\n",
              "Df Model:                           2                                         \n",
              "Covariance Type:            nonrobust                                         \n",
              "==============================================================================\n",
              "                 coef    std err          t      P>|t|      [0.025      0.975]\n",
              "------------------------------------------------------------------------------\n",
              "Intercept     29.4845      7.837      3.762      0.000      13.886      45.083\n",
              "x1             0.0870      0.146      0.595      0.554      -0.204       0.378\n",
              "x2             0.4005      0.074      5.432      0.000       0.254       0.547\n",
              "==============================================================================\n",
              "Omnibus:                        0.525   Durbin-Watson:                   1.371\n",
              "Prob(Omnibus):                  0.769   Jarque-Bera (JB):                0.669\n",
              "Skew:                           0.153   Prob(JB):                        0.716\n",
              "Kurtosis:                       2.680   Cond. No.                     1.08e+03\n",
              "==============================================================================\n",
              "\n",
              "Notes:\n",
              "[1] Standard Errors assume that the covariance matrix of the errors is correctly specified.\n",
              "[2] The condition number is large, 1.08e+03. This might indicate that there are\n",
              "strong multicollinearity or other numerical problems.\n",
              "\"\"\""
            ],
            "text/html": [
              "<table class=\"simpletable\">\n",
              "<caption>OLS Regression Results</caption>\n",
              "<tr>\n",
              "  <th>Dep. Variable:</th>          <td>estim</td>      <th>  R-squared:         </th> <td>   0.281</td>\n",
              "</tr>\n",
              "<tr>\n",
              "  <th>Model:</th>                   <td>OLS</td>       <th>  Adj. R-squared:    </th> <td>   0.263</td>\n",
              "</tr>\n",
              "<tr>\n",
              "  <th>Method:</th>             <td>Least Squares</td>  <th>  F-statistic:       </th> <td>   15.46</td>\n",
              "</tr>\n",
              "<tr>\n",
              "  <th>Date:</th>             <td>Thu, 23 Jan 2025</td> <th>  Prob (F-statistic):</th> <td>2.15e-06</td>\n",
              "</tr>\n",
              "<tr>\n",
              "  <th>Time:</th>                 <td>15:09:06</td>     <th>  Log-Likelihood:    </th> <td> -241.96</td>\n",
              "</tr>\n",
              "<tr>\n",
              "  <th>No. Observations:</th>      <td>    82</td>      <th>  AIC:               </th> <td>   489.9</td>\n",
              "</tr>\n",
              "<tr>\n",
              "  <th>Df Residuals:</th>          <td>    79</td>      <th>  BIC:               </th> <td>   497.1</td>\n",
              "</tr>\n",
              "<tr>\n",
              "  <th>Df Model:</th>              <td>     2</td>      <th>                     </th>     <td> </td>   \n",
              "</tr>\n",
              "<tr>\n",
              "  <th>Covariance Type:</th>      <td>nonrobust</td>    <th>                     </th>     <td> </td>   \n",
              "</tr>\n",
              "</table>\n",
              "<table class=\"simpletable\">\n",
              "<tr>\n",
              "      <td></td>         <th>coef</th>     <th>std err</th>      <th>t</th>      <th>P>|t|</th>  <th>[0.025</th>    <th>0.975]</th>  \n",
              "</tr>\n",
              "<tr>\n",
              "  <th>Intercept</th> <td>   29.4845</td> <td>    7.837</td> <td>    3.762</td> <td> 0.000</td> <td>   13.886</td> <td>   45.083</td>\n",
              "</tr>\n",
              "<tr>\n",
              "  <th>x1</th>        <td>    0.0870</td> <td>    0.146</td> <td>    0.595</td> <td> 0.554</td> <td>   -0.204</td> <td>    0.378</td>\n",
              "</tr>\n",
              "<tr>\n",
              "  <th>x2</th>        <td>    0.4005</td> <td>    0.074</td> <td>    5.432</td> <td> 0.000</td> <td>    0.254</td> <td>    0.547</td>\n",
              "</tr>\n",
              "</table>\n",
              "<table class=\"simpletable\">\n",
              "<tr>\n",
              "  <th>Omnibus:</th>       <td> 0.525</td> <th>  Durbin-Watson:     </th> <td>   1.371</td>\n",
              "</tr>\n",
              "<tr>\n",
              "  <th>Prob(Omnibus):</th> <td> 0.769</td> <th>  Jarque-Bera (JB):  </th> <td>   0.669</td>\n",
              "</tr>\n",
              "<tr>\n",
              "  <th>Skew:</th>          <td> 0.153</td> <th>  Prob(JB):          </th> <td>   0.716</td>\n",
              "</tr>\n",
              "<tr>\n",
              "  <th>Kurtosis:</th>      <td> 2.680</td> <th>  Cond. No.          </th> <td>1.08e+03</td>\n",
              "</tr>\n",
              "</table><br/><br/>Notes:<br/>[1] Standard Errors assume that the covariance matrix of the errors is correctly specified.<br/>[2] The condition number is large, 1.08e+03. This might indicate that there are<br/>strong multicollinearity or other numerical problems."
            ],
            "text/latex": "\\begin{center}\n\\begin{tabular}{lclc}\n\\toprule\n\\textbf{Dep. Variable:}    &      estim       & \\textbf{  R-squared:         } &     0.281   \\\\\n\\textbf{Model:}            &       OLS        & \\textbf{  Adj. R-squared:    } &     0.263   \\\\\n\\textbf{Method:}           &  Least Squares   & \\textbf{  F-statistic:       } &     15.46   \\\\\n\\textbf{Date:}             & Thu, 23 Jan 2025 & \\textbf{  Prob (F-statistic):} &  2.15e-06   \\\\\n\\textbf{Time:}             &     15:09:06     & \\textbf{  Log-Likelihood:    } &   -241.96   \\\\\n\\textbf{No. Observations:} &          82      & \\textbf{  AIC:               } &     489.9   \\\\\n\\textbf{Df Residuals:}     &          79      & \\textbf{  BIC:               } &     497.1   \\\\\n\\textbf{Df Model:}         &           2      & \\textbf{                     } &             \\\\\n\\textbf{Covariance Type:}  &    nonrobust     & \\textbf{                     } &             \\\\\n\\bottomrule\n\\end{tabular}\n\\begin{tabular}{lcccccc}\n                   & \\textbf{coef} & \\textbf{std err} & \\textbf{t} & \\textbf{P$> |$t$|$} & \\textbf{[0.025} & \\textbf{0.975]}  \\\\\n\\midrule\n\\textbf{Intercept} &      29.4845  &        7.837     &     3.762  &         0.000        &       13.886    &       45.083     \\\\\n\\textbf{x1}        &       0.0870  &        0.146     &     0.595  &         0.554        &       -0.204    &        0.378     \\\\\n\\textbf{x2}        &       0.4005  &        0.074     &     5.432  &         0.000        &        0.254    &        0.547     \\\\\n\\bottomrule\n\\end{tabular}\n\\begin{tabular}{lclc}\n\\textbf{Omnibus:}       &  0.525 & \\textbf{  Durbin-Watson:     } &    1.371  \\\\\n\\textbf{Prob(Omnibus):} &  0.769 & \\textbf{  Jarque-Bera (JB):  } &    0.669  \\\\\n\\textbf{Skew:}          &  0.153 & \\textbf{  Prob(JB):          } &    0.716  \\\\\n\\textbf{Kurtosis:}      &  2.680 & \\textbf{  Cond. No.          } & 1.08e+03  \\\\\n\\bottomrule\n\\end{tabular}\n%\\caption{OLS Regression Results}\n\\end{center}\n\nNotes: \\newline\n [1] Standard Errors assume that the covariance matrix of the errors is correctly specified. \\newline\n [2] The condition number is large, 1.08e+03. This might indicate that there are \\newline\n strong multicollinearity or other numerical problems."
          },
          "metadata": {},
          "execution_count": 40
        }
      ],
      "source": [
        "# define the multiple linear regression model\n",
        "mod = ols(formula = 'estim ~ x1 + x2', data= df1)\n",
        "\n",
        "# fit to data\n",
        "res = mod.fit()\n",
        "\n",
        "# print the summary\n",
        "res.summary()"
      ]
    },
    {
      "cell_type": "markdown",
      "metadata": {
        "id": "d4WVKMVKf09b"
      },
      "source": [
        "**Plot the value of the weights for the two stimuli as a bar plot (with standard error as error bars).** The value of the weights (starting with the intercept) can be accessed through `res.params[:]`, while the standard errors are called by `res.bse[:]`,"
      ]
    },
    {
      "cell_type": "code",
      "execution_count": 45,
      "metadata": {
        "id": "3dOeWvqKf09b",
        "outputId": "298e67b8-fd2e-4580-bd7a-0352b0bb7c78",
        "colab": {
          "base_uri": "https://localhost:8080/",
          "height": 435
        }
      },
      "outputs": [
        {
          "output_type": "display_data",
          "data": {
            "text/plain": [
              "<Figure size 640x480 with 1 Axes>"
            ],
            "image/png": "[encoded data removed]"
          },
          "metadata": {}
        }
      ],
      "source": [
        "#creat figure\n",
        "plt.figure\n",
        "\n",
        "# add bar plot with weights of the first and second stimulus\n",
        "plt.bar(range(2), res.params[1:3])\n",
        "\n",
        "# add error bars with standard error of these weights\n",
        "plt.errorbar(range(2), res.params[1:3], res.bse[1:3],  fmt='k',linestyle='None');\n",
        "\n",
        "# add tick and axes labels\n",
        "plt.xticks(range(2), ['first stim','second stim']);\n",
        "plt.ylabel('weight');"
      ]
    },
    {
      "cell_type": "markdown",
      "metadata": {
        "id": "hO6PSp_ef09c"
      },
      "source": [
        "**What do you conclude?**"
      ]
    },
    {
      "cell_type": "markdown",
      "metadata": {
        "id": "SH6TlJ64f09c"
      },
      "source": [
        "*The second stimulus has a larger weight therefore most likely explains more of the variance in the dependent variable estim*"
      ]
    },
    {
      "cell_type": "markdown",
      "metadata": {
        "id": "3IpQKsoVf09c"
      },
      "source": [
        "At this stage we will make a rapid change in the definition of the variables to ease the following analyses, using 50 as the reference point as it was used in the experiment. We will change $x_1$ to $x_1-50$ so that a positive value indicates evidence towards large mean (>50) and a negative value indicates evidence towards low mean (<50). This is done in the code below. Then we can pass the same analysis again and check that it actually does not change anything to the stimulus weights! (Although it does change the intercept)"
      ]
    },
    {
      "cell_type": "code",
      "execution_count": 46,
      "metadata": {
        "id": "_rC19N7vf09c",
        "outputId": "b994d16c-2566-4382-8d5c-f44c40277951",
        "colab": {
          "base_uri": "https://localhost:8080/",
          "height": 206
        }
      },
      "outputs": [
        {
          "output_type": "execute_result",
          "data": {
            "text/plain": [
              "      x1  binchoice      x2    xavg  estim  subj\n",
              "0 -4.625         -1  -8.375 -6.5000     44     1\n",
              "1 -2.500          1 -11.375 -6.9375     41     1\n",
              "2 -2.250          1   7.500  2.6250     54     1\n",
              "3 -3.375         -1 -11.625 -7.5000     40     1\n",
              "4 -2.750         -1  -8.625 -5.6875     45     1"
            ],
            "text/html": [
              "\n",
              "  <div id=\"df-e7836342-9c8b-4cd5-b0c9-8d5cef48fad4\" class=\"colab-df-container\">\n",
              "    <div>\n",
              "<style scoped>\n",
              "    .dataframe tbody tr th:only-of-type {\n",
              "        vertical-align: middle;\n",
              "    }\n",
              "\n",
              "    .dataframe tbody tr th {\n",
              "        vertical-align: top;\n",
              "    }\n",
              "\n",
              "    .dataframe thead th {\n",
              "        text-align: right;\n",
              "    }\n",
              "</style>\n",
              "<table border=\"1\" class=\"dataframe\">\n",
              "  <thead>\n",
              "    <tr style=\"text-align: right;\">\n",
              "      <th></th>\n",
              "      <th>x1</th>\n",
              "      <th>binchoice</th>\n",
              "      <th>x2</th>\n",
              "      <th>xavg</th>\n",
              "      <th>estim</th>\n",
              "      <th>subj</th>\n",
              "    </tr>\n",
              "  </thead>\n",
              "  <tbody>\n",
              "    <tr>\n",
              "      <th>0</th>\n",
              "      <td>-4.625</td>\n",
              "      <td>-1</td>\n",
              "      <td>-8.375</td>\n",
              "      <td>-6.5000</td>\n",
              "      <td>44</td>\n",
              "      <td>1</td>\n",
              "    </tr>\n",
              "    <tr>\n",
              "      <th>1</th>\n",
              "      <td>-2.500</td>\n",
              "      <td>1</td>\n",
              "      <td>-11.375</td>\n",
              "      <td>-6.9375</td>\n",
              "      <td>41</td>\n",
              "      <td>1</td>\n",
              "    </tr>\n",
              "    <tr>\n",
              "      <th>2</th>\n",
              "      <td>-2.250</td>\n",
              "      <td>1</td>\n",
              "      <td>7.500</td>\n",
              "      <td>2.6250</td>\n",
              "      <td>54</td>\n",
              "      <td>1</td>\n",
              "    </tr>\n",
              "    <tr>\n",
              "      <th>3</th>\n",
              "      <td>-3.375</td>\n",
              "      <td>-1</td>\n",
              "      <td>-11.625</td>\n",
              "      <td>-7.5000</td>\n",
              "      <td>40</td>\n",
              "      <td>1</td>\n",
              "    </tr>\n",
              "    <tr>\n",
              "      <th>4</th>\n",
              "      <td>-2.750</td>\n",
              "      <td>-1</td>\n",
              "      <td>-8.625</td>\n",
              "      <td>-5.6875</td>\n",
              "      <td>45</td>\n",
              "      <td>1</td>\n",
              "    </tr>\n",
              "  </tbody>\n",
              "</table>\n",
              "</div>\n",
              "    <div class=\"colab-df-buttons\">\n",
              "\n",
              "  <div class=\"colab-df-container\">\n",
              "    <button class=\"colab-df-convert\" onclick=\"convertToInteractive('df-e7836342-9c8b-4cd5-b0c9-8d5cef48fad4')\"\n",
              "            title=\"Convert this dataframe to an interactive table.\"\n",
              "            style=\"display:none;\">\n",
              "\n",
              "  <svg xmlns=\"http://www.w3.org/2000/svg\" height=\"24px\" viewBox=\"0 -960 960 960\">\n",
              "    <path d=\"M120-120v-720h720v720H120Zm60-500h600v-160H180v160Zm220 220h160v-160H400v160Zm0 220h160v-160H400v160ZM180-400h160v-160H180v160Zm440 0h160v-160H620v160ZM180-180h160v-160H180v160Zm440 0h160v-160H620v160Z\"/>\n",
              "  </svg>\n",
              "    </button>\n",
              "\n",
              "  <style>\n",
              "    .colab-df-container {\n",
              "      display:flex;\n",
              "      gap: 12px;\n",
              "    }\n",
              "\n",
              "    .colab-df-convert {\n",
              "      background-color: #E8F0FE;\n",
              "      border: none;\n",
              "      border-radius: 50%;\n",
              "      cursor: pointer;\n",
              "      display: none;\n",
              "      fill: #1967D2;\n",
              "      height: 32px;\n",
              "      padding: 0 0 0 0;\n",
              "      width: 32px;\n",
              "    }\n",
              "\n",
              "    .colab-df-convert:hover {\n",
              "      background-color: #E2EBFA;\n",
              "      box-shadow: 0px 1px 2px rgba(60, 64, 67, 0.3), 0px 1px 3px 1px rgba(60, 64, 67, 0.15);\n",
              "      fill: #174EA6;\n",
              "    }\n",
              "\n",
              "    .colab-df-buttons div {\n",
              "      margin-bottom: 4px;\n",
              "    }\n",
              "\n",
              "    [theme=dark] .colab-df-convert {\n",
              "      background-color: #3B4455;\n",
              "      fill: #D2E3FC;\n",
              "    }\n",
              "\n",
              "    [theme=dark] .colab-df-convert:hover {\n",
              "      background-color: #434B5C;\n",
              "      box-shadow: 0px 1px 3px 1px rgba(0, 0, 0, 0.15);\n",
              "      filter: drop-shadow(0px 1px 2px rgba(0, 0, 0, 0.3));\n",
              "      fill: #FFFFFF;\n",
              "    }\n",
              "  </style>\n",
              "\n",
              "    <script>\n",
              "      const buttonEl =\n",
              "        document.querySelector('#df-e7836342-9c8b-4cd5-b0c9-8d5cef48fad4 button.colab-df-convert');\n",
              "      buttonEl.style.display =\n",
              "        google.colab.kernel.accessAllowed ? 'block' : 'none';\n",
              "\n",
              "      async function convertToInteractive(key) {\n",
              "        const element = document.querySelector('#df-e7836342-9c8b-4cd5-b0c9-8d5cef48fad4');\n",
              "        const dataTable =\n",
              "          await google.colab.kernel.invokeFunction('convertToInteractive',\n",
              "                                                    [key], {});\n",
              "        if (!dataTable) return;\n",
              "\n",
              "        const docLinkHtml = 'Like what you see? Visit the ' +\n",
              "          '<a target=\"_blank\" href=https://colab.research.google.com/notebooks/data_table.ipynb>data table notebook</a>'\n",
              "          + ' to learn more about interactive tables.';\n",
              "        element.innerHTML = '';\n",
              "        dataTable['output_type'] = 'display_data';\n",
              "        await google.colab.output.renderOutput(dataTable, element);\n",
              "        const docLink = document.createElement('div');\n",
              "        docLink.innerHTML = docLinkHtml;\n",
              "        element.appendChild(docLink);\n",
              "      }\n",
              "    </script>\n",
              "  </div>\n",
              "\n",
              "\n",
              "<div id=\"df-3fd44e07-12bb-4ae4-8a51-2a184473e709\">\n",
              "  <button class=\"colab-df-quickchart\" onclick=\"quickchart('df-3fd44e07-12bb-4ae4-8a51-2a184473e709')\"\n",
              "            title=\"Suggest charts\"\n",
              "            style=\"display:none;\">\n",
              "\n",
              "<svg xmlns=\"http://www.w3.org/2000/svg\" height=\"24px\"viewBox=\"0 0 24 24\"\n",
              "     width=\"24px\">\n",
              "    <g>\n",
              "        <path d=\"M19 3H5c-1.1 0-2 .9-2 2v14c0 1.1.9 2 2 2h14c1.1 0 2-.9 2-2V5c0-1.1-.9-2-2-2zM9 17H7v-7h2v7zm4 0h-2V7h2v10zm4 0h-2v-4h2v4z\"/>\n",
              "    </g>\n",
              "</svg>\n",
              "  </button>\n",
              "\n",
              "<style>\n",
              "  .colab-df-quickchart {\n",
              "      --bg-color: #E8F0FE;\n",
              "      --fill-color: #1967D2;\n",
              "      --hover-bg-color: #E2EBFA;\n",
              "      --hover-fill-color: #174EA6;\n",
              "      --disabled-fill-color: #AAA;\n",
              "      --disabled-bg-color: #DDD;\n",
              "  }\n",
              "\n",
              "  [theme=dark] .colab-df-quickchart {\n",
              "      --bg-color: #3B4455;\n",
              "      --fill-color: #D2E3FC;\n",
              "      --hover-bg-color: #434B5C;\n",
              "      --hover-fill-color: #FFFFFF;\n",
              "      --disabled-bg-color: #3B4455;\n",
              "      --disabled-fill-color: #666;\n",
              "  }\n",
              "\n",
              "  .colab-df-quickchart {\n",
              "    background-color: var(--bg-color);\n",
              "    border: none;\n",
              "    border-radius: 50%;\n",
              "    cursor: pointer;\n",
              "    display: none;\n",
              "    fill: var(--fill-color);\n",
              "    height: 32px;\n",
              "    padding: 0;\n",
              "    width: 32px;\n",
              "  }\n",
              "\n",
              "  .colab-df-quickchart:hover {\n",
              "    background-color: var(--hover-bg-color);\n",
              "    box-shadow: 0 1px 2px rgba(60, 64, 67, 0.3), 0 1px 3px 1px rgba(60, 64, 67, 0.15);\n",
              "    fill: var(--button-hover-fill-color);\n",
              "  }\n",
              "\n",
              "  .colab-df-quickchart-complete:disabled,\n",
              "  .colab-df-quickchart-complete:disabled:hover {\n",
              "    background-color: var(--disabled-bg-color);\n",
              "    fill: var(--disabled-fill-color);\n",
              "    box-shadow: none;\n",
              "  }\n",
              "\n",
              "  .colab-df-spinner {\n",
              "    border: 2px solid var(--fill-color);\n",
              "    border-color: transparent;\n",
              "    border-bottom-color: var(--fill-color);\n",
              "    animation:\n",
              "      spin 1s steps(1) infinite;\n",
              "  }\n",
              "\n",
              "  @keyframes spin {\n",
              "    0% {\n",
              "      border-color: transparent;\n",
              "      border-bottom-color: var(--fill-color);\n",
              "      border-left-color: var(--fill-color);\n",
              "    }\n",
              "    20% {\n",
              "      border-color: transparent;\n",
              "      border-left-color: var(--fill-color);\n",
              "      border-top-color: var(--fill-color);\n",
              "    }\n",
              "    30% {\n",
              "      border-color: transparent;\n",
              "      border-left-color: var(--fill-color);\n",
              "      border-top-color: var(--fill-color);\n",
              "      border-right-color: var(--fill-color);\n",
              "    }\n",
              "    40% {\n",
              "      border-color: transparent;\n",
              "      border-right-color: var(--fill-color);\n",
              "      border-top-color: var(--fill-color);\n",
              "    }\n",
              "    60% {\n",
              "      border-color: transparent;\n",
              "      border-right-color: var(--fill-color);\n",
              "    }\n",
              "    80% {\n",
              "      border-color: transparent;\n",
              "      border-right-color: var(--fill-color);\n",
              "      border-bottom-color: var(--fill-color);\n",
              "    }\n",
              "    90% {\n",
              "      border-color: transparent;\n",
              "      border-bottom-color: var(--fill-color);\n",
              "    }\n",
              "  }\n",
              "</style>\n",
              "\n",
              "  <script>\n",
              "    async function quickchart(key) {\n",
              "      const quickchartButtonEl =\n",
              "        document.querySelector('#' + key + ' button');\n",
              "      quickchartButtonEl.disabled = true;  // To prevent multiple clicks.\n",
              "      quickchartButtonEl.classList.add('colab-df-spinner');\n",
              "      try {\n",
              "        const charts = await google.colab.kernel.invokeFunction(\n",
              "            'suggestCharts', [key], {});\n",
              "      } catch (error) {\n",
              "        console.error('Error during call to suggestCharts:', error);\n",
              "      }\n",
              "      quickchartButtonEl.classList.remove('colab-df-spinner');\n",
              "      quickchartButtonEl.classList.add('colab-df-quickchart-complete');\n",
              "    }\n",
              "    (() => {\n",
              "      let quickchartButtonEl =\n",
              "        document.querySelector('#df-3fd44e07-12bb-4ae4-8a51-2a184473e709 button');\n",
              "      quickchartButtonEl.style.display =\n",
              "        google.colab.kernel.accessAllowed ? 'block' : 'none';\n",
              "    })();\n",
              "  </script>\n",
              "</div>\n",
              "\n",
              "    </div>\n",
              "  </div>\n"
            ],
            "application/vnd.google.colaboratory.intrinsic+json": {
              "type": "dataframe",
              "variable_name": "df",
              "summary": "{\n  \"name\": \"df\",\n  \"rows\": 1738,\n  \"fields\": [\n    {\n      \"column\": \"x1\",\n      \"properties\": {\n        \"dtype\": \"number\",\n        \"std\": 3.5428135338669704,\n        \"min\": -5.75,\n        \"max\": 5.375,\n        \"num_unique_values\": 49,\n        \"samples\": [\n          -4.5,\n          -2.625,\n          0.5\n        ],\n        \"semantic_type\": \"\",\n        \"description\": \"\"\n      }\n    },\n    {\n      \"column\": \"binchoice\",\n      \"properties\": {\n        \"dtype\": \"number\",\n        \"std\": 0,\n        \"min\": -1,\n        \"max\": 1,\n        \"num_unique_values\": 2,\n        \"samples\": [\n          1,\n          -1\n        ],\n        \"semantic_type\": \"\",\n        \"description\": \"\"\n      }\n    },\n    {\n      \"column\": \"x2\",\n      \"properties\": {\n        \"dtype\": \"number\",\n        \"std\": 7.059139895181619,\n        \"min\": -12.375,\n        \"max\": 12.5,\n        \"num_unique_values\": 77,\n        \"samples\": [\n          -8.625,\n          10.625\n        ],\n        \"semantic_type\": \"\",\n        \"description\": \"\"\n      }\n    },\n    {\n      \"column\": \"xavg\",\n      \"properties\": {\n        \"dtype\": \"number\",\n        \"std\": 4.123763788071366,\n        \"min\": -9.0,\n        \"max\": 8.0625,\n        \"num_unique_values\": 71,\n        \"samples\": [\n          1.25,\n          -6.5\n        ],\n        \"semantic_type\": \"\",\n        \"description\": \"\"\n      }\n    },\n    {\n      \"column\": \"estim\",\n      \"properties\": {\n        \"dtype\": \"number\",\n        \"std\": 6,\n        \"min\": 27,\n        \"max\": 73,\n        \"num_unique_values\": 42,\n        \"samples\": [\n          38,\n          61\n        ],\n        \"semantic_type\": \"\",\n        \"description\": \"\"\n      }\n    },\n    {\n      \"column\": \"subj\",\n      \"properties\": {\n        \"dtype\": \"number\",\n        \"std\": 6,\n        \"min\": 1,\n        \"max\": 21,\n        \"num_unique_values\": 21,\n        \"samples\": [\n          1,\n          18\n        ],\n        \"semantic_type\": \"\",\n        \"description\": \"\"\n      }\n    }\n  ]\n}"
            }
          },
          "metadata": {},
          "execution_count": 46
        }
      ],
      "source": [
        "# use 50 as reference point\n",
        "df.x1 = df.x1 - 50\n",
        "df.x2 = df.x2 - 50\n",
        "df.xavg = df.xavg - 50\n",
        "df.head()"
      ]
    },
    {
      "cell_type": "code",
      "execution_count": 47,
      "metadata": {
        "id": "8KMVp6Czf09d",
        "outputId": "2aa01359-b250-4773-836d-9ba538a394c1",
        "colab": {
          "base_uri": "https://localhost:8080/",
          "height": 473
        }
      },
      "outputs": [
        {
          "output_type": "execute_result",
          "data": {
            "text/plain": [
              "<class 'statsmodels.iolib.summary.Summary'>\n",
              "\"\"\"\n",
              "                            OLS Regression Results                            \n",
              "==============================================================================\n",
              "Dep. Variable:                  estim   R-squared:                       0.281\n",
              "Model:                            OLS   Adj. R-squared:                  0.263\n",
              "Method:                 Least Squares   F-statistic:                     15.46\n",
              "Date:                Thu, 23 Jan 2025   Prob (F-statistic):           2.15e-06\n",
              "Time:                        15:18:35   Log-Likelihood:                -241.96\n",
              "No. Observations:                  82   AIC:                             489.9\n",
              "Df Residuals:                      79   BIC:                             497.1\n",
              "Df Model:                           2                                         \n",
              "Covariance Type:            nonrobust                                         \n",
              "==============================================================================\n",
              "                 coef    std err          t      P>|t|      [0.025      0.975]\n",
              "------------------------------------------------------------------------------\n",
              "Intercept     53.8585      0.541     99.593      0.000      52.782      54.935\n",
              "x1             0.0870      0.146      0.595      0.554      -0.204       0.378\n",
              "x2             0.4005      0.074      5.432      0.000       0.254       0.547\n",
              "==============================================================================\n",
              "Omnibus:                        0.525   Durbin-Watson:                   1.371\n",
              "Prob(Omnibus):                  0.769   Jarque-Bera (JB):                0.669\n",
              "Skew:                           0.153   Prob(JB):                        0.716\n",
              "Kurtosis:                       2.680   Cond. No.                         7.61\n",
              "==============================================================================\n",
              "\n",
              "Notes:\n",
              "[1] Standard Errors assume that the covariance matrix of the errors is correctly specified.\n",
              "\"\"\""
            ],
            "text/html": [
              "<table class=\"simpletable\">\n",
              "<caption>OLS Regression Results</caption>\n",
              "<tr>\n",
              "  <th>Dep. Variable:</th>          <td>estim</td>      <th>  R-squared:         </th> <td>   0.281</td>\n",
              "</tr>\n",
              "<tr>\n",
              "  <th>Model:</th>                   <td>OLS</td>       <th>  Adj. R-squared:    </th> <td>   0.263</td>\n",
              "</tr>\n",
              "<tr>\n",
              "  <th>Method:</th>             <td>Least Squares</td>  <th>  F-statistic:       </th> <td>   15.46</td>\n",
              "</tr>\n",
              "<tr>\n",
              "  <th>Date:</th>             <td>Thu, 23 Jan 2025</td> <th>  Prob (F-statistic):</th> <td>2.15e-06</td>\n",
              "</tr>\n",
              "<tr>\n",
              "  <th>Time:</th>                 <td>15:18:35</td>     <th>  Log-Likelihood:    </th> <td> -241.96</td>\n",
              "</tr>\n",
              "<tr>\n",
              "  <th>No. Observations:</th>      <td>    82</td>      <th>  AIC:               </th> <td>   489.9</td>\n",
              "</tr>\n",
              "<tr>\n",
              "  <th>Df Residuals:</th>          <td>    79</td>      <th>  BIC:               </th> <td>   497.1</td>\n",
              "</tr>\n",
              "<tr>\n",
              "  <th>Df Model:</th>              <td>     2</td>      <th>                     </th>     <td> </td>   \n",
              "</tr>\n",
              "<tr>\n",
              "  <th>Covariance Type:</th>      <td>nonrobust</td>    <th>                     </th>     <td> </td>   \n",
              "</tr>\n",
              "</table>\n",
              "<table class=\"simpletable\">\n",
              "<tr>\n",
              "      <td></td>         <th>coef</th>     <th>std err</th>      <th>t</th>      <th>P>|t|</th>  <th>[0.025</th>    <th>0.975]</th>  \n",
              "</tr>\n",
              "<tr>\n",
              "  <th>Intercept</th> <td>   53.8585</td> <td>    0.541</td> <td>   99.593</td> <td> 0.000</td> <td>   52.782</td> <td>   54.935</td>\n",
              "</tr>\n",
              "<tr>\n",
              "  <th>x1</th>        <td>    0.0870</td> <td>    0.146</td> <td>    0.595</td> <td> 0.554</td> <td>   -0.204</td> <td>    0.378</td>\n",
              "</tr>\n",
              "<tr>\n",
              "  <th>x2</th>        <td>    0.4005</td> <td>    0.074</td> <td>    5.432</td> <td> 0.000</td> <td>    0.254</td> <td>    0.547</td>\n",
              "</tr>\n",
              "</table>\n",
              "<table class=\"simpletable\">\n",
              "<tr>\n",
              "  <th>Omnibus:</th>       <td> 0.525</td> <th>  Durbin-Watson:     </th> <td>   1.371</td>\n",
              "</tr>\n",
              "<tr>\n",
              "  <th>Prob(Omnibus):</th> <td> 0.769</td> <th>  Jarque-Bera (JB):  </th> <td>   0.669</td>\n",
              "</tr>\n",
              "<tr>\n",
              "  <th>Skew:</th>          <td> 0.153</td> <th>  Prob(JB):          </th> <td>   0.716</td>\n",
              "</tr>\n",
              "<tr>\n",
              "  <th>Kurtosis:</th>      <td> 2.680</td> <th>  Cond. No.          </th> <td>    7.61</td>\n",
              "</tr>\n",
              "</table><br/><br/>Notes:<br/>[1] Standard Errors assume that the covariance matrix of the errors is correctly specified."
            ],
            "text/latex": "\\begin{center}\n\\begin{tabular}{lclc}\n\\toprule\n\\textbf{Dep. Variable:}    &      estim       & \\textbf{  R-squared:         } &     0.281   \\\\\n\\textbf{Model:}            &       OLS        & \\textbf{  Adj. R-squared:    } &     0.263   \\\\\n\\textbf{Method:}           &  Least Squares   & \\textbf{  F-statistic:       } &     15.46   \\\\\n\\textbf{Date:}             & Thu, 23 Jan 2025 & \\textbf{  Prob (F-statistic):} &  2.15e-06   \\\\\n\\textbf{Time:}             &     15:18:35     & \\textbf{  Log-Likelihood:    } &   -241.96   \\\\\n\\textbf{No. Observations:} &          82      & \\textbf{  AIC:               } &     489.9   \\\\\n\\textbf{Df Residuals:}     &          79      & \\textbf{  BIC:               } &     497.1   \\\\\n\\textbf{Df Model:}         &           2      & \\textbf{                     } &             \\\\\n\\textbf{Covariance Type:}  &    nonrobust     & \\textbf{                     } &             \\\\\n\\bottomrule\n\\end{tabular}\n\\begin{tabular}{lcccccc}\n                   & \\textbf{coef} & \\textbf{std err} & \\textbf{t} & \\textbf{P$> |$t$|$} & \\textbf{[0.025} & \\textbf{0.975]}  \\\\\n\\midrule\n\\textbf{Intercept} &      53.8585  &        0.541     &    99.593  &         0.000        &       52.782    &       54.935     \\\\\n\\textbf{x1}        &       0.0870  &        0.146     &     0.595  &         0.554        &       -0.204    &        0.378     \\\\\n\\textbf{x2}        &       0.4005  &        0.074     &     5.432  &         0.000        &        0.254    &        0.547     \\\\\n\\bottomrule\n\\end{tabular}\n\\begin{tabular}{lclc}\n\\textbf{Omnibus:}       &  0.525 & \\textbf{  Durbin-Watson:     } &    1.371  \\\\\n\\textbf{Prob(Omnibus):} &  0.769 & \\textbf{  Jarque-Bera (JB):  } &    0.669  \\\\\n\\textbf{Skew:}          &  0.153 & \\textbf{  Prob(JB):          } &    0.716  \\\\\n\\textbf{Kurtosis:}      &  2.680 & \\textbf{  Cond. No.          } &     7.61  \\\\\n\\bottomrule\n\\end{tabular}\n%\\caption{OLS Regression Results}\n\\end{center}\n\nNotes: \\newline\n [1] Standard Errors assume that the covariance matrix of the errors is correctly specified."
          },
          "metadata": {},
          "execution_count": 47
        }
      ],
      "source": [
        "# dataframe for first subject\n",
        "df1 = df[df.subj==1]\n",
        "\n",
        "# re-define the multiple linear regression model\n",
        "mod = ols(formula = 'estim ~ x1 + x2', data=df1)\n",
        "\n",
        "# fit to data again\n",
        "res = mod.fit()\n",
        "\n",
        "# print the summary\n",
        "res.summary()"
      ]
    },
    {
      "cell_type": "markdown",
      "metadata": {
        "id": "LPLLOMZXf09d"
      },
      "source": [
        "## 3. Population analysis\n",
        "OK, this was just one subject. When we look for an effect in the general population, we use a two-level analysis:\n",
        "* 1) Fit the linear regression model for each subject, separately\n",
        "* 2) Compare the distribution of weights across subjects (e.g. with t-tests)\n",
        "\n",
        "**Use this two-level approach.** First, fit the same regression analysis for all subjects separately (with the two stimuli as regressors) and store the weights of all subjects. Then, plot the average value (across subjects) of the weights for stimulus 1 and stimulus 2 as a bar plot, with individual lines for the weights of individual subjects."
      ]
    },
    {
      "cell_type": "code",
      "execution_count": 55,
      "metadata": {
        "scrolled": true,
        "id": "s2lUyfL2f09d",
        "outputId": "76e01f42-e593-47cb-9f8d-e0440eeabe8a",
        "colab": {
          "base_uri": "https://localhost:8080/",
          "height": 449
        }
      },
      "outputs": [
        {
          "output_type": "display_data",
          "data": {
            "text/plain": [
              "<Figure size 640x480 with 1 Axes>"
            ],
            "image/png": "[encoded data removed]"
          },
          "metadata": {}
        }
      ],
      "source": [
        "#define numpy array where we will store the weights for all subjects (how many weights per subject?)\n",
        "subjects = df['subj'].unique()\n",
        "num_subjects = len(subjects)\n",
        "numb_weights = 3\n",
        "\n",
        "pars = np.zeros((num_subjects, numb_weights))\n",
        "\n",
        "# loop through all subjects\n",
        "for i,s in enumerate(subjects):\n",
        "\n",
        "    # dataframe with data only for the corresponding subject\n",
        "    df_subj = df[df.subj==s]\n",
        "\n",
        "    # define the corresponding model\n",
        "    mod = ols('estim ~ x1 + x2', data = df_subj)\n",
        "\n",
        "    # fit the model\n",
        "    res = mod.fit()\n",
        "\n",
        "    # add the model weights to the array\n",
        "    pars[i,:] = res.params\n",
        "\n",
        "\n",
        "# compute the mean of all weights across subjects (axis defines if we average over rows or columns)\n",
        "mean_weights = np.mean(pars,axis=0)\n",
        "\n",
        "# create figure\n",
        "plt.figure;\n",
        "\n",
        "# bar plot for mean weights for stimulus 1 and 2\n",
        "plt.bar(range(2), mean_weights[1:])  # Exclude the intercept\n",
        "\n",
        "# add grey lines for weights of individual subjects\n",
        "for i in range(len(subjects)):\n",
        "    plt.plot(range(2), pars[i, 1:], color='grey', alpha=0.6)  # Exclude intercept\n",
        "\n",
        "# add labels for ticks and axes\n",
        "plt.xticks(range(2),('first','second'));\n",
        "plt.xlabel(\"stimulus\");\n",
        "plt.ylabel(\"weight\");"
      ]
    },
    {
      "cell_type": "markdown",
      "metadata": {
        "id": "-1L44kQrf09e"
      },
      "source": [
        "Now, **test formally whether there is a statistical difference across the population by using a *paired* t-test**. This is paired because for each subject we have a value for both distributions, that of the first and second stimulus weights. Paired t-tests are performed using `stats.ttest_rel`."
      ]
    },
    {
      "cell_type": "code",
      "execution_count": 57,
      "metadata": {
        "id": "hi-KH0tHf09e",
        "outputId": "57240a54-088b-4550-f009-29d04ad6b24d",
        "colab": {
          "base_uri": "https://localhost:8080/"
        }
      },
      "outputs": [
        {
          "output_type": "execute_result",
          "data": {
            "text/plain": [
              "TtestResult(statistic=-2.1380748970935217, pvalue=0.04503993674223998, df=20)"
            ]
          },
          "metadata": {},
          "execution_count": 57
        }
      ],
      "source": [
        "# Importing library\n",
        "import scipy.stats as stats\n",
        "\n",
        "# Performing the paired sample t-test\n",
        "stats.ttest_rel(pars[:,1], pars[:,2])"
      ]
    },
    {
      "cell_type": "markdown",
      "metadata": {
        "id": "hqRAdrJvf09e"
      },
      "source": [
        "**What do you conclude?**"
      ]
    },
    {
      "cell_type": "markdown",
      "metadata": {
        "id": "AkG7pZ4wf09e"
      },
      "source": [
        "*A p-value of 0.045 tells us there we can reject the null hypothesis that there is no difference in means of the weights of the first and second stimulus. Therefore, there is a statistically significant difference between the weighted means of the first stim and second stim*"
      ]
    },
    {
      "cell_type": "markdown",
      "metadata": {
        "id": "t6lP2D4lf09f"
      },
      "source": [
        "## 3. Testing the confirmation bias\n",
        "We are now finally in a position to test the central hypothesis of the experiment: that the intermediate choice biases the perception of the subsequent stimulus, such that this second stimulus will have a larger weight on the final report if is consistent with the intermediate choice than if it is inconsistent. Take some time to make sure you get this, because now we will want to put this in a (simple) equation.\n",
        "But first, let's **define a boolean array for this consistency and add it to the dataframe**. The value of the array should be true if the sign of `binchoice` is the same as that of $x2$ (i.e. if they are both positive, it means that the subject responded \">50\" at the intermediate choice, and that the mean of the second stimulus is above 50), false otherwise. Check that you did good."
      ]
    },
    {
      "cell_type": "code",
      "execution_count": 62,
      "metadata": {
        "scrolled": true,
        "id": "FKVGmnTBf09f",
        "outputId": "357c71a6-c564-4fc1-b638-cc145e2e5866",
        "colab": {
          "base_uri": "https://localhost:8080/",
          "height": 206
        }
      },
      "outputs": [
        {
          "output_type": "execute_result",
          "data": {
            "text/plain": [
              "      x1  binchoice      x2    xavg  estim  subj  consistent\n",
              "0 -4.625         -1  -8.375 -6.5000     44     1        True\n",
              "1 -2.500          1 -11.375 -6.9375     41     1       False\n",
              "2 -2.250          1   7.500  2.6250     54     1        True\n",
              "3 -3.375         -1 -11.625 -7.5000     40     1        True\n",
              "4 -2.750         -1  -8.625 -5.6875     45     1        True"
            ],
            "text/html": [
              "\n",
              "  <div id=\"df-72c94d0e-96e7-49a6-9c72-0c78e1e98dc6\" class=\"colab-df-container\">\n",
              "    <div>\n",
              "<style scoped>\n",
              "    .dataframe tbody tr th:only-of-type {\n",
              "        vertical-align: middle;\n",
              "    }\n",
              "\n",
              "    .dataframe tbody tr th {\n",
              "        vertical-align: top;\n",
              "    }\n",
              "\n",
              "    .dataframe thead th {\n",
              "        text-align: right;\n",
              "    }\n",
              "</style>\n",
              "<table border=\"1\" class=\"dataframe\">\n",
              "  <thead>\n",
              "    <tr style=\"text-align: right;\">\n",
              "      <th></th>\n",
              "      <th>x1</th>\n",
              "      <th>binchoice</th>\n",
              "      <th>x2</th>\n",
              "      <th>xavg</th>\n",
              "      <th>estim</th>\n",
              "      <th>subj</th>\n",
              "      <th>consistent</th>\n",
              "    </tr>\n",
              "  </thead>\n",
              "  <tbody>\n",
              "    <tr>\n",
              "      <th>0</th>\n",
              "      <td>-4.625</td>\n",
              "      <td>-1</td>\n",
              "      <td>-8.375</td>\n",
              "      <td>-6.5000</td>\n",
              "      <td>44</td>\n",
              "      <td>1</td>\n",
              "      <td>True</td>\n",
              "    </tr>\n",
              "    <tr>\n",
              "      <th>1</th>\n",
              "      <td>-2.500</td>\n",
              "      <td>1</td>\n",
              "      <td>-11.375</td>\n",
              "      <td>-6.9375</td>\n",
              "      <td>41</td>\n",
              "      <td>1</td>\n",
              "      <td>False</td>\n",
              "    </tr>\n",
              "    <tr>\n",
              "      <th>2</th>\n",
              "      <td>-2.250</td>\n",
              "      <td>1</td>\n",
              "      <td>7.500</td>\n",
              "      <td>2.6250</td>\n",
              "      <td>54</td>\n",
              "      <td>1</td>\n",
              "      <td>True</td>\n",
              "    </tr>\n",
              "    <tr>\n",
              "      <th>3</th>\n",
              "      <td>-3.375</td>\n",
              "      <td>-1</td>\n",
              "      <td>-11.625</td>\n",
              "      <td>-7.5000</td>\n",
              "      <td>40</td>\n",
              "      <td>1</td>\n",
              "      <td>True</td>\n",
              "    </tr>\n",
              "    <tr>\n",
              "      <th>4</th>\n",
              "      <td>-2.750</td>\n",
              "      <td>-1</td>\n",
              "      <td>-8.625</td>\n",
              "      <td>-5.6875</td>\n",
              "      <td>45</td>\n",
              "      <td>1</td>\n",
              "      <td>True</td>\n",
              "    </tr>\n",
              "  </tbody>\n",
              "</table>\n",
              "</div>\n",
              "    <div class=\"colab-df-buttons\">\n",
              "\n",
              "  <div class=\"colab-df-container\">\n",
              "    <button class=\"colab-df-convert\" onclick=\"convertToInteractive('df-72c94d0e-96e7-49a6-9c72-0c78e1e98dc6')\"\n",
              "            title=\"Convert this dataframe to an interactive table.\"\n",
              "            style=\"display:none;\">\n",
              "\n",
              "  <svg xmlns=\"http://www.w3.org/2000/svg\" height=\"24px\" viewBox=\"0 -960 960 960\">\n",
              "    <path d=\"M120-120v-720h720v720H120Zm60-500h600v-160H180v160Zm220 220h160v-160H400v160Zm0 220h160v-160H400v160ZM180-400h160v-160H180v160Zm440 0h160v-160H620v160ZM180-180h160v-160H180v160Zm440 0h160v-160H620v160Z\"/>\n",
              "  </svg>\n",
              "    </button>\n",
              "\n",
              "  <style>\n",
              "    .colab-df-container {\n",
              "      display:flex;\n",
              "      gap: 12px;\n",
              "    }\n",
              "\n",
              "    .colab-df-convert {\n",
              "      background-color: #E8F0FE;\n",
              "      border: none;\n",
              "      border-radius: 50%;\n",
              "      cursor: pointer;\n",
              "      display: none;\n",
              "      fill: #1967D2;\n",
              "      height: 32px;\n",
              "      padding: 0 0 0 0;\n",
              "      width: 32px;\n",
              "    }\n",
              "\n",
              "    .colab-df-convert:hover {\n",
              "      background-color: #E2EBFA;\n",
              "      box-shadow: 0px 1px 2px rgba(60, 64, 67, 0.3), 0px 1px 3px 1px rgba(60, 64, 67, 0.15);\n",
              "      fill: #174EA6;\n",
              "    }\n",
              "\n",
              "    .colab-df-buttons div {\n",
              "      margin-bottom: 4px;\n",
              "    }\n",
              "\n",
              "    [theme=dark] .colab-df-convert {\n",
              "      background-color: #3B4455;\n",
              "      fill: #D2E3FC;\n",
              "    }\n",
              "\n",
              "    [theme=dark] .colab-df-convert:hover {\n",
              "      background-color: #434B5C;\n",
              "      box-shadow: 0px 1px 3px 1px rgba(0, 0, 0, 0.15);\n",
              "      filter: drop-shadow(0px 1px 2px rgba(0, 0, 0, 0.3));\n",
              "      fill: #FFFFFF;\n",
              "    }\n",
              "  </style>\n",
              "\n",
              "    <script>\n",
              "      const buttonEl =\n",
              "        document.querySelector('#df-72c94d0e-96e7-49a6-9c72-0c78e1e98dc6 button.colab-df-convert');\n",
              "      buttonEl.style.display =\n",
              "        google.colab.kernel.accessAllowed ? 'block' : 'none';\n",
              "\n",
              "      async function convertToInteractive(key) {\n",
              "        const element = document.querySelector('#df-72c94d0e-96e7-49a6-9c72-0c78e1e98dc6');\n",
              "        const dataTable =\n",
              "          await google.colab.kernel.invokeFunction('convertToInteractive',\n",
              "                                                    [key], {});\n",
              "        if (!dataTable) return;\n",
              "\n",
              "        const docLinkHtml = 'Like what you see? Visit the ' +\n",
              "          '<a target=\"_blank\" href=https://colab.research.google.com/notebooks/data_table.ipynb>data table notebook</a>'\n",
              "          + ' to learn more about interactive tables.';\n",
              "        element.innerHTML = '';\n",
              "        dataTable['output_type'] = 'display_data';\n",
              "        await google.colab.output.renderOutput(dataTable, element);\n",
              "        const docLink = document.createElement('div');\n",
              "        docLink.innerHTML = docLinkHtml;\n",
              "        element.appendChild(docLink);\n",
              "      }\n",
              "    </script>\n",
              "  </div>\n",
              "\n",
              "\n",
              "<div id=\"df-6be1963a-9220-477c-88a2-ae67da23721e\">\n",
              "  <button class=\"colab-df-quickchart\" onclick=\"quickchart('df-6be1963a-9220-477c-88a2-ae67da23721e')\"\n",
              "            title=\"Suggest charts\"\n",
              "            style=\"display:none;\">\n",
              "\n",
              "<svg xmlns=\"http://www.w3.org/2000/svg\" height=\"24px\"viewBox=\"0 0 24 24\"\n",
              "     width=\"24px\">\n",
              "    <g>\n",
              "        <path d=\"M19 3H5c-1.1 0-2 .9-2 2v14c0 1.1.9 2 2 2h14c1.1 0 2-.9 2-2V5c0-1.1-.9-2-2-2zM9 17H7v-7h2v7zm4 0h-2V7h2v10zm4 0h-2v-4h2v4z\"/>\n",
              "    </g>\n",
              "</svg>\n",
              "  </button>\n",
              "\n",
              "<style>\n",
              "  .colab-df-quickchart {\n",
              "      --bg-color: #E8F0FE;\n",
              "      --fill-color: #1967D2;\n",
              "      --hover-bg-color: #E2EBFA;\n",
              "      --hover-fill-color: #174EA6;\n",
              "      --disabled-fill-color: #AAA;\n",
              "      --disabled-bg-color: #DDD;\n",
              "  }\n",
              "\n",
              "  [theme=dark] .colab-df-quickchart {\n",
              "      --bg-color: #3B4455;\n",
              "      --fill-color: #D2E3FC;\n",
              "      --hover-bg-color: #434B5C;\n",
              "      --hover-fill-color: #FFFFFF;\n",
              "      --disabled-bg-color: #3B4455;\n",
              "      --disabled-fill-color: #666;\n",
              "  }\n",
              "\n",
              "  .colab-df-quickchart {\n",
              "    background-color: var(--bg-color);\n",
              "    border: none;\n",
              "    border-radius: 50%;\n",
              "    cursor: pointer;\n",
              "    display: none;\n",
              "    fill: var(--fill-color);\n",
              "    height: 32px;\n",
              "    padding: 0;\n",
              "    width: 32px;\n",
              "  }\n",
              "\n",
              "  .colab-df-quickchart:hover {\n",
              "    background-color: var(--hover-bg-color);\n",
              "    box-shadow: 0 1px 2px rgba(60, 64, 67, 0.3), 0 1px 3px 1px rgba(60, 64, 67, 0.15);\n",
              "    fill: var(--button-hover-fill-color);\n",
              "  }\n",
              "\n",
              "  .colab-df-quickchart-complete:disabled,\n",
              "  .colab-df-quickchart-complete:disabled:hover {\n",
              "    background-color: var(--disabled-bg-color);\n",
              "    fill: var(--disabled-fill-color);\n",
              "    box-shadow: none;\n",
              "  }\n",
              "\n",
              "  .colab-df-spinner {\n",
              "    border: 2px solid var(--fill-color);\n",
              "    border-color: transparent;\n",
              "    border-bottom-color: var(--fill-color);\n",
              "    animation:\n",
              "      spin 1s steps(1) infinite;\n",
              "  }\n",
              "\n",
              "  @keyframes spin {\n",
              "    0% {\n",
              "      border-color: transparent;\n",
              "      border-bottom-color: var(--fill-color);\n",
              "      border-left-color: var(--fill-color);\n",
              "    }\n",
              "    20% {\n",
              "      border-color: transparent;\n",
              "      border-left-color: var(--fill-color);\n",
              "      border-top-color: var(--fill-color);\n",
              "    }\n",
              "    30% {\n",
              "      border-color: transparent;\n",
              "      border-left-color: var(--fill-color);\n",
              "      border-top-color: var(--fill-color);\n",
              "      border-right-color: var(--fill-color);\n",
              "    }\n",
              "    40% {\n",
              "      border-color: transparent;\n",
              "      border-right-color: var(--fill-color);\n",
              "      border-top-color: var(--fill-color);\n",
              "    }\n",
              "    60% {\n",
              "      border-color: transparent;\n",
              "      border-right-color: var(--fill-color);\n",
              "    }\n",
              "    80% {\n",
              "      border-color: transparent;\n",
              "      border-right-color: var(--fill-color);\n",
              "      border-bottom-color: var(--fill-color);\n",
              "    }\n",
              "    90% {\n",
              "      border-color: transparent;\n",
              "      border-bottom-color: var(--fill-color);\n",
              "    }\n",
              "  }\n",
              "</style>\n",
              "\n",
              "  <script>\n",
              "    async function quickchart(key) {\n",
              "      const quickchartButtonEl =\n",
              "        document.querySelector('#' + key + ' button');\n",
              "      quickchartButtonEl.disabled = true;  // To prevent multiple clicks.\n",
              "      quickchartButtonEl.classList.add('colab-df-spinner');\n",
              "      try {\n",
              "        const charts = await google.colab.kernel.invokeFunction(\n",
              "            'suggestCharts', [key], {});\n",
              "      } catch (error) {\n",
              "        console.error('Error during call to suggestCharts:', error);\n",
              "      }\n",
              "      quickchartButtonEl.classList.remove('colab-df-spinner');\n",
              "      quickchartButtonEl.classList.add('colab-df-quickchart-complete');\n",
              "    }\n",
              "    (() => {\n",
              "      let quickchartButtonEl =\n",
              "        document.querySelector('#df-6be1963a-9220-477c-88a2-ae67da23721e button');\n",
              "      quickchartButtonEl.style.display =\n",
              "        google.colab.kernel.accessAllowed ? 'block' : 'none';\n",
              "    })();\n",
              "  </script>\n",
              "</div>\n",
              "\n",
              "    </div>\n",
              "  </div>\n"
            ],
            "application/vnd.google.colaboratory.intrinsic+json": {
              "type": "dataframe",
              "variable_name": "df",
              "summary": "{\n  \"name\": \"df\",\n  \"rows\": 1738,\n  \"fields\": [\n    {\n      \"column\": \"x1\",\n      \"properties\": {\n        \"dtype\": \"number\",\n        \"std\": 3.5428135338669704,\n        \"min\": -5.75,\n        \"max\": 5.375,\n        \"num_unique_values\": 49,\n        \"samples\": [\n          -4.5,\n          -2.625,\n          0.5\n        ],\n        \"semantic_type\": \"\",\n        \"description\": \"\"\n      }\n    },\n    {\n      \"column\": \"binchoice\",\n      \"properties\": {\n        \"dtype\": \"number\",\n        \"std\": 0,\n        \"min\": -1,\n        \"max\": 1,\n        \"num_unique_values\": 2,\n        \"samples\": [\n          1,\n          -1\n        ],\n        \"semantic_type\": \"\",\n        \"description\": \"\"\n      }\n    },\n    {\n      \"column\": \"x2\",\n      \"properties\": {\n        \"dtype\": \"number\",\n        \"std\": 7.059139895181619,\n        \"min\": -12.375,\n        \"max\": 12.5,\n        \"num_unique_values\": 77,\n        \"samples\": [\n          -8.625,\n          10.625\n        ],\n        \"semantic_type\": \"\",\n        \"description\": \"\"\n      }\n    },\n    {\n      \"column\": \"xavg\",\n      \"properties\": {\n        \"dtype\": \"number\",\n        \"std\": 4.123763788071366,\n        \"min\": -9.0,\n        \"max\": 8.0625,\n        \"num_unique_values\": 71,\n        \"samples\": [\n          1.25,\n          -6.5\n        ],\n        \"semantic_type\": \"\",\n        \"description\": \"\"\n      }\n    },\n    {\n      \"column\": \"estim\",\n      \"properties\": {\n        \"dtype\": \"number\",\n        \"std\": 6,\n        \"min\": 27,\n        \"max\": 73,\n        \"num_unique_values\": 42,\n        \"samples\": [\n          38,\n          61\n        ],\n        \"semantic_type\": \"\",\n        \"description\": \"\"\n      }\n    },\n    {\n      \"column\": \"subj\",\n      \"properties\": {\n        \"dtype\": \"number\",\n        \"std\": 6,\n        \"min\": 1,\n        \"max\": 21,\n        \"num_unique_values\": 21,\n        \"samples\": [\n          1,\n          18\n        ],\n        \"semantic_type\": \"\",\n        \"description\": \"\"\n      }\n    },\n    {\n      \"column\": \"consistent\",\n      \"properties\": {\n        \"dtype\": \"boolean\",\n        \"num_unique_values\": 2,\n        \"samples\": [\n          false,\n          true\n        ],\n        \"semantic_type\": \"\",\n        \"description\": \"\"\n      }\n    }\n  ]\n}"
            }
          },
          "metadata": {},
          "execution_count": 62
        }
      ],
      "source": [
        "# sign of x2\n",
        "sgn = np.sign(df['binchoice'])\n",
        "\n",
        "# define boolean array for consistency\n",
        "consistent = (sgn == np.sign(df['x2']))\n",
        "\n",
        "# add to dataframe\n",
        "df['consistent'] = consistent\n",
        "df.head()"
      ]
    },
    {
      "cell_type": "markdown",
      "metadata": {
        "id": "PNJ_49Vgf09f"
      },
      "source": [
        "The previous model (with no impact of the intermediate binary choice on the judgment) can be written as $y = \\beta_0 + \\beta_1 x_1 + \\beta_2 x_2  + \\text{noise}.$\n",
        "How can we change this model to capture a different impact of the second stimulus depending on consistency with the intermediate choice?\n",
        "**Write the equation below** (or equivalently, the definition of the regressors)."
      ]
    },
    {
      "cell_type": "markdown",
      "metadata": {
        "id": "NHxzypLwf09f"
      },
      "source": [
        "* y = B0 + B1x1 + B2x2 + B3(x2 *consistent) + noise\n",
        "\n",
        "B3 = the vaue showing how the consistecy effects x2\n",
        "(x2 * consistent) = value of interaction between x2 and if it depends on consistency w intermediate choice *"
      ]
    },
    {
      "cell_type": "markdown",
      "metadata": {
        "id": "KIXBflHrf09f"
      },
      "source": [
        "Now **add the two new regressors that you will need in the new regression model as variables to the dataframe.** Again, take some time to make sure on the first lines of the dataframe that the new variables do code what we expect them to code."
      ]
    },
    {
      "cell_type": "code",
      "execution_count": null,
      "metadata": {
        "id": "8KfHkx6Yf09g"
      },
      "outputs": [],
      "source": [
        " B3 = df['x2'] * df['consistent']\n",
        " interaction = df['x2'] * df['consistent']\n",
        "\n",
        "# add as variables in dataframe\n",
        "df[??] = ??\n",
        "df[??] = ??\n",
        "\n",
        "df.head()"
      ]
    },
    {
      "cell_type": "markdown",
      "metadata": {
        "id": "xutEwLiGf09k"
      },
      "source": [
        "Almost there! Now **fit the new regression model on all subjects separately and plot the values of the two types of x2 weights one against another**. Specifically, instead of plotting lines as we did for the previous model, we will represent each pair of weights using a scatter plot, with the value of one weight on the x-axis and of the other weight on the y-axis. This way, systematic differences between the weights will be seen as points lying more on one side or the other of the diagonal."
      ]
    },
    {
      "cell_type": "code",
      "execution_count": null,
      "metadata": {
        "id": "sGZ8BR8wf09k",
        "outputId": "9a4b7e17-0149-410e-ac05-516e53948760"
      },
      "outputs": [
        {
          "data": {
            "image/png": "[encoded data removed]",
            "text/plain": [
              "<Figure size 640x480 with 1 Axes>"
            ]
          },
          "metadata": {},
          "output_type": "display_data"
        }
      ],
      "source": [
        "# create array for weights for each subject (how many weights per subject?)\n",
        "pars = np.zeros((??,??))\n",
        "\n",
        "# loop through all subjects\n",
        "for i,s in enumerate(subjects):\n",
        "\n",
        "    # dataframe for this subject\n",
        "    df_subj = ??\n",
        "\n",
        "    # define and fit regression model\n",
        "    mod = ols(????)\n",
        "    res = mod.fit()\n",
        "\n",
        "    # store values of the parameters\n",
        "    pars[i,:] = res.params\n",
        "\n",
        "# compute mean across subjects\n",
        "mean_weights = np.mean(??,axis=0)\n",
        "\n",
        "# create figure\n",
        "plt.figure;\n",
        "\n",
        "# add scatter plot, with values of one set of weights as X, and of the other set of weights as Y\n",
        "????\n",
        "\n",
        "# add gray diagonal line\n",
        "plt.plot((0,.8),(0,.8),'gray');\n",
        "\n",
        "# vertical and horizontal lines at 0\n",
        "plt.plot(plt.xlim(),(0,0),'k');\n",
        "plt.plot((0,0),plt.ylim(),'k');\n",
        "\n",
        "# axis labels\n",
        "????\n",
        "????"
      ]
    },
    {
      "cell_type": "markdown",
      "metadata": {
        "id": "PJayh-I7f09k"
      },
      "source": [
        "**Perform a paired T-test between the two sets of weights.**"
      ]
    },
    {
      "cell_type": "code",
      "execution_count": null,
      "metadata": {
        "scrolled": true,
        "id": "WVEhT2G5f09n",
        "outputId": "275c2aa6-cade-43a5-a565-5a7eab4c58ed"
      },
      "outputs": [
        {
          "data": {
            "text/plain": [
              "Ttest_relResult(statistic=6.775840240142278, pvalue=1.3706538964575747e-06)"
            ]
          },
          "execution_count": 21,
          "metadata": {},
          "output_type": "execute_result"
        }
      ],
      "source": [
        "# Performing the paired sample t-test\n",
        "???????"
      ]
    },
    {
      "cell_type": "markdown",
      "metadata": {
        "id": "bBjU3EA5f09q"
      },
      "source": [
        "**What do you conclude?**"
      ]
    },
    {
      "cell_type": "markdown",
      "metadata": {
        "id": "PUX1anuRf09t"
      },
      "source": []
    },
    {
      "cell_type": "markdown",
      "metadata": {
        "id": "fOT7eC0Tf09t"
      },
      "source": [
        "## 4 Modelling the whole population with a single model\n",
        "\n",
        "### 4.1 Naive approach with categorical variables\n",
        "We have seen above the typical two-level analysis when looking for an effect in a population of subjects: fit one model on each subject separately, and then compare the distribution of weights across participants. We will now explore single-step approaches where we would capture the whole dataset with a single regression model. The challenge is to take into account the variability of effects between different subjects in a single model."
      ]
    },
    {
      "cell_type": "markdown",
      "metadata": {
        "id": "klu1tOD6M0E8"
      },
      "source": [
        "We will start with a naive approach that will illustrate how to use **categorical regressors**.\n",
        "So let's say we want to capture the variability of participant biases, i.e. their idiosyncratic tendency to over- or under-evaluate the stimulus mean in their reports. In the linear model, this is captured by the intercept $\\beta_0$.\n",
        "So what we would like is a different intercept for each subject. This is done by adding subject identity as a categorical regressor in the design of a general linear model, which means simply `C(subj)` to the formula. This will estimate one weight for each subject (except the first subject taken as the reference).\n",
        "Note that this is different from simply adding `subj`, which would introduce a continuous instead of categorical regressor (i.e. it would capture a linear trend for later subjects to over-estimate or under-estimate compared to earlier subjects - this is not what we want!).\n",
        "**Add subject as a categorical variable to the linear regression model with x1 and x2 as regressors, and fit to the whole dataset.**"
      ]
    },
    {
      "cell_type": "code",
      "execution_count": null,
      "metadata": {
        "ExecuteTime": {
          "end_time": "2022-02-04T22:46:54.943241Z",
          "start_time": "2022-02-04T22:46:54.939949Z"
        },
        "id": "wuJk2dtXf09u",
        "outputId": "4dfcb4b7-4054-45bf-bfd4-7d9f7e777273"
      },
      "outputs": [
        {
          "data": {
            "text/html": [
              "<table class=\"simpletable\">\n",
              "<caption>OLS Regression Results</caption>\n",
              "<tr>\n",
              "  <th>Dep. Variable:</th>          <td>estim</td>      <th>  R-squared:         </th> <td>   0.302</td> \n",
              "</tr>\n",
              "<tr>\n",
              "  <th>Model:</th>                   <td>OLS</td>       <th>  Adj. R-squared:    </th> <td>   0.293</td> \n",
              "</tr>\n",
              "<tr>\n",
              "  <th>Method:</th>             <td>Least Squares</td>  <th>  F-statistic:       </th> <td>   33.74</td> \n",
              "</tr>\n",
              "<tr>\n",
              "  <th>Date:</th>             <td>Thu, 25 Jan 2024</td> <th>  Prob (F-statistic):</th> <td>4.89e-117</td>\n",
              "</tr>\n",
              "<tr>\n",
              "  <th>Time:</th>                 <td>10:46:56</td>     <th>  Log-Likelihood:    </th> <td> -5444.9</td> \n",
              "</tr>\n",
              "<tr>\n",
              "  <th>No. Observations:</th>      <td>  1738</td>      <th>  AIC:               </th> <td>1.094e+04</td>\n",
              "</tr>\n",
              "<tr>\n",
              "  <th>Df Residuals:</th>          <td>  1715</td>      <th>  BIC:               </th> <td>1.106e+04</td>\n",
              "</tr>\n",
              "<tr>\n",
              "  <th>Df Model:</th>              <td>    22</td>      <th>                     </th>     <td> </td>    \n",
              "</tr>\n",
              "<tr>\n",
              "  <th>Covariance Type:</th>      <td>nonrobust</td>    <th>                     </th>     <td> </td>    \n",
              "</tr>\n",
              "</table>\n",
              "<table class=\"simpletable\">\n",
              "<tr>\n",
              "        <td></td>           <th>coef</th>     <th>std err</th>      <th>t</th>      <th>P>|t|</th>  <th>[0.025</th>    <th>0.975]</th>  \n",
              "</tr>\n",
              "<tr>\n",
              "  <th>Intercept</th>     <td>   54.0018</td> <td>    0.618</td> <td>   87.348</td> <td> 0.000</td> <td>   52.789</td> <td>   55.214</td>\n",
              "</tr>\n",
              "<tr>\n",
              "  <th>C(subj)[T.2]</th>  <td>   -2.3611</td> <td>    0.867</td> <td>   -2.722</td> <td> 0.007</td> <td>   -4.062</td> <td>   -0.660</td>\n",
              "</tr>\n",
              "<tr>\n",
              "  <th>C(subj)[T.3]</th>  <td>   -7.4855</td> <td>    0.870</td> <td>   -8.604</td> <td> 0.000</td> <td>   -9.192</td> <td>   -5.779</td>\n",
              "</tr>\n",
              "<tr>\n",
              "  <th>C(subj)[T.4]</th>  <td>   -3.5873</td> <td>    0.867</td> <td>   -4.135</td> <td> 0.000</td> <td>   -5.289</td> <td>   -1.886</td>\n",
              "</tr>\n",
              "<tr>\n",
              "  <th>C(subj)[T.5]</th>  <td>   -4.6111</td> <td>    0.867</td> <td>   -5.316</td> <td> 0.000</td> <td>   -6.312</td> <td>   -2.910</td>\n",
              "</tr>\n",
              "<tr>\n",
              "  <th>C(subj)[T.6]</th>  <td>   -2.0998</td> <td>    0.870</td> <td>   -2.414</td> <td> 0.016</td> <td>   -3.806</td> <td>   -0.393</td>\n",
              "</tr>\n",
              "<tr>\n",
              "  <th>C(subj)[T.7]</th>  <td>   -2.9682</td> <td>    0.867</td> <td>   -3.422</td> <td> 0.001</td> <td>   -4.670</td> <td>   -1.267</td>\n",
              "</tr>\n",
              "<tr>\n",
              "  <th>C(subj)[T.8]</th>  <td>   -8.3966</td> <td>    0.875</td> <td>   -9.592</td> <td> 0.000</td> <td>  -10.114</td> <td>   -6.680</td>\n",
              "</tr>\n",
              "<tr>\n",
              "  <th>C(subj)[T.9]</th>  <td>   -1.7063</td> <td>    0.867</td> <td>   -1.967</td> <td> 0.049</td> <td>   -3.408</td> <td>   -0.005</td>\n",
              "</tr>\n",
              "<tr>\n",
              "  <th>C(subj)[T.10]</th> <td>   -4.8730</td> <td>    0.867</td> <td>   -5.618</td> <td> 0.000</td> <td>   -6.574</td> <td>   -3.172</td>\n",
              "</tr>\n",
              "<tr>\n",
              "  <th>C(subj)[T.11]</th> <td>   -5.6111</td> <td>    0.867</td> <td>   -6.468</td> <td> 0.000</td> <td>   -7.312</td> <td>   -3.910</td>\n",
              "</tr>\n",
              "<tr>\n",
              "  <th>C(subj)[T.12]</th> <td>   -7.8611</td> <td>    0.867</td> <td>   -9.062</td> <td> 0.000</td> <td>   -9.562</td> <td>   -6.160</td>\n",
              "</tr>\n",
              "<tr>\n",
              "  <th>C(subj)[T.13]</th> <td>   -3.1508</td> <td>    0.870</td> <td>   -3.621</td> <td> 0.000</td> <td>   -4.857</td> <td>   -1.444</td>\n",
              "</tr>\n",
              "<tr>\n",
              "  <th>C(subj)[T.14]</th> <td>   -2.9948</td> <td>    0.870</td> <td>   -3.442</td> <td> 0.001</td> <td>   -4.701</td> <td>   -1.288</td>\n",
              "</tr>\n",
              "<tr>\n",
              "  <th>C(subj)[T.15]</th> <td>   -6.3611</td> <td>    0.867</td> <td>   -7.333</td> <td> 0.000</td> <td>   -8.062</td> <td>   -4.660</td>\n",
              "</tr>\n",
              "<tr>\n",
              "  <th>C(subj)[T.16]</th> <td>   -3.4682</td> <td>    0.867</td> <td>   -3.998</td> <td> 0.000</td> <td>   -5.170</td> <td>   -1.767</td>\n",
              "</tr>\n",
              "<tr>\n",
              "  <th>C(subj)[T.17]</th> <td>   -1.8254</td> <td>    0.867</td> <td>   -2.104</td> <td> 0.035</td> <td>   -3.527</td> <td>   -0.124</td>\n",
              "</tr>\n",
              "<tr>\n",
              "  <th>C(subj)[T.18]</th> <td>   -3.7897</td> <td>    0.867</td> <td>   -4.369</td> <td> 0.000</td> <td>   -5.491</td> <td>   -2.088</td>\n",
              "</tr>\n",
              "<tr>\n",
              "  <th>C(subj)[T.19]</th> <td>   -4.4395</td> <td>    0.875</td> <td>   -5.072</td> <td> 0.000</td> <td>   -6.156</td> <td>   -2.723</td>\n",
              "</tr>\n",
              "<tr>\n",
              "  <th>C(subj)[T.20]</th> <td>   -2.3928</td> <td>    0.873</td> <td>   -2.742</td> <td> 0.006</td> <td>   -4.104</td> <td>   -0.681</td>\n",
              "</tr>\n",
              "<tr>\n",
              "  <th>C(subj)[T.21]</th> <td>   -0.5260</td> <td>    0.903</td> <td>   -0.583</td> <td> 0.560</td> <td>   -2.296</td> <td>    1.244</td>\n",
              "</tr>\n",
              "<tr>\n",
              "  <th>x1</th>            <td>    0.2900</td> <td>    0.038</td> <td>    7.615</td> <td> 0.000</td> <td>    0.215</td> <td>    0.365</td>\n",
              "</tr>\n",
              "<tr>\n",
              "  <th>x2</th>            <td>    0.3661</td> <td>    0.019</td> <td>   19.149</td> <td> 0.000</td> <td>    0.329</td> <td>    0.404</td>\n",
              "</tr>\n",
              "</table>\n",
              "<table class=\"simpletable\">\n",
              "<tr>\n",
              "  <th>Omnibus:</th>       <td>13.102</td> <th>  Durbin-Watson:     </th> <td>   1.902</td>\n",
              "</tr>\n",
              "<tr>\n",
              "  <th>Prob(Omnibus):</th> <td> 0.001</td> <th>  Jarque-Bera (JB):  </th> <td>  19.086</td>\n",
              "</tr>\n",
              "<tr>\n",
              "  <th>Skew:</th>          <td> 0.002</td> <th>  Prob(JB):          </th> <td>7.17e-05</td>\n",
              "</tr>\n",
              "<tr>\n",
              "  <th>Kurtosis:</th>      <td> 3.513</td> <th>  Cond. No.          </th> <td>    156.</td>\n",
              "</tr>\n",
              "</table><br/><br/>Notes:<br/>[1] Standard Errors assume that the covariance matrix of the errors is correctly specified."
            ],
            "text/plain": [
              "<class 'statsmodels.iolib.summary.Summary'>\n",
              "\"\"\"\n",
              "                            OLS Regression Results                            \n",
              "==============================================================================\n",
              "Dep. Variable:                  estim   R-squared:                       0.302\n",
              "Model:                            OLS   Adj. R-squared:                  0.293\n",
              "Method:                 Least Squares   F-statistic:                     33.74\n",
              "Date:                Thu, 25 Jan 2024   Prob (F-statistic):          4.89e-117\n",
              "Time:                        10:46:56   Log-Likelihood:                -5444.9\n",
              "No. Observations:                1738   AIC:                         1.094e+04\n",
              "Df Residuals:                    1715   BIC:                         1.106e+04\n",
              "Df Model:                          22                                         \n",
              "Covariance Type:            nonrobust                                         \n",
              "=================================================================================\n",
              "                    coef    std err          t      P>|t|      [0.025      0.975]\n",
              "---------------------------------------------------------------------------------\n",
              "Intercept        54.0018      0.618     87.348      0.000      52.789      55.214\n",
              "C(subj)[T.2]     -2.3611      0.867     -2.722      0.007      -4.062      -0.660\n",
              "C(subj)[T.3]     -7.4855      0.870     -8.604      0.000      -9.192      -5.779\n",
              "C(subj)[T.4]     -3.5873      0.867     -4.135      0.000      -5.289      -1.886\n",
              "C(subj)[T.5]     -4.6111      0.867     -5.316      0.000      -6.312      -2.910\n",
              "C(subj)[T.6]     -2.0998      0.870     -2.414      0.016      -3.806      -0.393\n",
              "C(subj)[T.7]     -2.9682      0.867     -3.422      0.001      -4.670      -1.267\n",
              "C(subj)[T.8]     -8.3966      0.875     -9.592      0.000     -10.114      -6.680\n",
              "C(subj)[T.9]     -1.7063      0.867     -1.967      0.049      -3.408      -0.005\n",
              "C(subj)[T.10]    -4.8730      0.867     -5.618      0.000      -6.574      -3.172\n",
              "C(subj)[T.11]    -5.6111      0.867     -6.468      0.000      -7.312      -3.910\n",
              "C(subj)[T.12]    -7.8611      0.867     -9.062      0.000      -9.562      -6.160\n",
              "C(subj)[T.13]    -3.1508      0.870     -3.621      0.000      -4.857      -1.444\n",
              "C(subj)[T.14]    -2.9948      0.870     -3.442      0.001      -4.701      -1.288\n",
              "C(subj)[T.15]    -6.3611      0.867     -7.333      0.000      -8.062      -4.660\n",
              "C(subj)[T.16]    -3.4682      0.867     -3.998      0.000      -5.170      -1.767\n",
              "C(subj)[T.17]    -1.8254      0.867     -2.104      0.035      -3.527      -0.124\n",
              "C(subj)[T.18]    -3.7897      0.867     -4.369      0.000      -5.491      -2.088\n",
              "C(subj)[T.19]    -4.4395      0.875     -5.072      0.000      -6.156      -2.723\n",
              "C(subj)[T.20]    -2.3928      0.873     -2.742      0.006      -4.104      -0.681\n",
              "C(subj)[T.21]    -0.5260      0.903     -0.583      0.560      -2.296       1.244\n",
              "x1                0.2900      0.038      7.615      0.000       0.215       0.365\n",
              "x2                0.3661      0.019     19.149      0.000       0.329       0.404\n",
              "==============================================================================\n",
              "Omnibus:                       13.102   Durbin-Watson:                   1.902\n",
              "Prob(Omnibus):                  0.001   Jarque-Bera (JB):               19.086\n",
              "Skew:                           0.002   Prob(JB):                     7.17e-05\n",
              "Kurtosis:                       3.513   Cond. No.                         156.\n",
              "==============================================================================\n",
              "\n",
              "Notes:\n",
              "[1] Standard Errors assume that the covariance matrix of the errors is correctly specified.\n",
              "\"\"\""
            ]
          },
          "execution_count": 22,
          "metadata": {},
          "output_type": "execute_result"
        }
      ],
      "source": [
        "# define the multiple linear regression model\n",
        "mod = ols(formula = ???, data=??)\n",
        "\n",
        "# fit to data\n",
        "res = mod.fit()\n",
        "\n",
        "# print the summary\n",
        "res.summary()"
      ]
    },
    {
      "cell_type": "markdown",
      "metadata": {
        "id": "YaUlfO6ef09u"
      },
      "source": [
        "**Can you find the weights for the regressor of interest? Why are the other regressors not “of interest”? Why do we include them, then?**"
      ]
    },
    {
      "cell_type": "markdown",
      "metadata": {
        "id": "5AVnMJ1lf09u"
      },
      "source": []
    },
    {
      "cell_type": "markdown",
      "metadata": {
        "id": "_GkpvvLPf09u"
      },
      "source": [
        "**How do you interpret subject weights?**"
      ]
    },
    {
      "cell_type": "markdown",
      "metadata": {
        "id": "z0xTz8hDf09u"
      },
      "source": []
    },
    {
      "cell_type": "markdown",
      "metadata": {
        "id": "KR_e88dBf09v"
      },
      "source": [
        "### 4.2 Linear mixed models\n",
        "Now we will take is a more principled approach to it, *linear mixed models*. In this framework, we consider subjects as *random factors*, i.e. factors that are not of interest per se but that contribute to the variability. Instead of estimating one parameter per subject, these models directly estimate the variance of the weight across the population (assuming, again, Gaussian statistics). In this way, one parameter of variance will take care of the variability across participants. Linear models that include both fixed factors (the baseline effect in the whole population - what we are generally interested in) and random factors (a variance parameter accounting for a family of regressors) are called \"mixed models\". These are usually the way that we should model subjects in our designs. Mixed models in the case of linear regression are called linear mixed models."
      ]
    },
    {
      "cell_type": "markdown",
      "metadata": {
        "id": "sxSeG8C6f09v"
      },
      "source": [
        "Mixed models are not very well developed in Python. The R language is a lot better adapted for advanced statistics methods. You have two choices:\n",
        "1) Use the function *mixedlm* in the Python library **statsmodels.formula.api**. This should be very parallel to what you just did, but you need to choose the right options for *mixedlm*\n",
        "\n",
        "2) Use the Python library **pymer4.models**, which gives you access to R functions from within Python. You can then import the function *Lmer* and call it specifying the fixed and random factors in your design (check the documentation). This is a more powerful approach, because of the simplicity of the syntax and all the power of R that you can invoke."
      ]
    },
    {
      "cell_type": "markdown",
      "metadata": {
        "id": "_iLe-hs4f09z"
      },
      "source": [
        "1) Let us implement a linear mixed model where the random factor for the intercept of each participant. This is very similar to the traditional linear regression model we just defined with subject-specific biases, except that now we directly estimate the distribution of biases across the population, rather than each subject bias."
      ]
    },
    {
      "cell_type": "code",
      "execution_count": null,
      "metadata": {
        "ExecuteTime": {
          "end_time": "2022-02-04T22:46:55.260351Z",
          "start_time": "2022-02-04T22:46:54.971773Z"
        },
        "id": "OawmGQU2M0FF",
        "outputId": "5bd6d484-8612-4f59-a9b8-44872d13e782"
      },
      "outputs": [
        {
          "data": {
            "text/html": [
              "<table class=\"simpletable\">\n",
              "<tr>\n",
              "       <td>Model:</td>       <td>MixedLM</td> <td>Dependent Variable:</td>    <td>estim</td>  \n",
              "</tr>\n",
              "<tr>\n",
              "  <td>No. Observations:</td>  <td>1738</td>         <td>Method:</td>          <td>REML</td>   \n",
              "</tr>\n",
              "<tr>\n",
              "     <td>No. Groups:</td>      <td>21</td>          <td>Scale:</td>          <td>31.2233</td> \n",
              "</tr>\n",
              "<tr>\n",
              "  <td>Min. group size:</td>    <td>72</td>      <td>Log-Likelihood:</td>   <td>-5487.8269</td>\n",
              "</tr>\n",
              "<tr>\n",
              "  <td>Max. group size:</td>    <td>84</td>        <td>Converged:</td>          <td>Yes</td>   \n",
              "</tr>\n",
              "<tr>\n",
              "  <td>Mean group size:</td>   <td>82.8</td>            <td></td>                <td></td>     \n",
              "</tr>\n",
              "</table>\n",
              "<table class=\"simpletable\">\n",
              "<tr>\n",
              "      <td></td>       <th>Coef.</th> <th>Std.Err.</th>    <th>z</th>   <th>P>|z|</th> <th>[0.025</th> <th>0.975]</th>\n",
              "</tr>\n",
              "<tr>\n",
              "  <th>Intercept</th> <td>50.166</td>   <td>0.502</td>  <td>99.922</td> <td>0.000</td> <td>49.182</td> <td>51.150</td>\n",
              "</tr>\n",
              "<tr>\n",
              "  <th>x1</th>         <td>0.290</td>   <td>0.038</td>   <td>7.618</td> <td>0.000</td>  <td>0.215</td>  <td>0.365</td>\n",
              "</tr>\n",
              "<tr>\n",
              "  <th>x2</th>         <td>0.366</td>   <td>0.019</td>  <td>19.152</td> <td>0.000</td>  <td>0.329</td>  <td>0.404</td>\n",
              "</tr>\n",
              "<tr>\n",
              "  <th>Group Var</th>  <td>4.889</td>   <td>0.300</td>     <td></td>      <td></td>       <td></td>       <td></td>   \n",
              "</tr>\n",
              "</table>"
            ],
            "text/plain": [
              "<class 'statsmodels.iolib.summary2.Summary'>\n",
              "\"\"\"\n",
              "         Mixed Linear Model Regression Results\n",
              "========================================================\n",
              "Model:            MixedLM Dependent Variable: estim     \n",
              "No. Observations: 1738    Method:             REML      \n",
              "No. Groups:       21      Scale:              31.2233   \n",
              "Min. group size:  72      Log-Likelihood:     -5487.8269\n",
              "Max. group size:  84      Converged:          Yes       \n",
              "Mean group size:  82.8                                  \n",
              "--------------------------------------------------------\n",
              "              Coef.  Std.Err.   z    P>|z| [0.025 0.975]\n",
              "--------------------------------------------------------\n",
              "Intercept     50.166    0.502 99.922 0.000 49.182 51.150\n",
              "x1             0.290    0.038  7.618 0.000  0.215  0.365\n",
              "x2             0.366    0.019 19.152 0.000  0.329  0.404\n",
              "Group Var      4.889    0.300                           \n",
              "========================================================\n",
              "\n",
              "\"\"\""
            ]
          },
          "execution_count": 23,
          "metadata": {},
          "output_type": "execute_result"
        }
      ],
      "source": [
        "# import package\n",
        "from statsmodels.formula.api import mixedlm\n",
        "\n",
        "# define model:\n",
        "# - the fixed effects are given in the formula as for ols\n",
        "# - the random factor is defined by 'groups' (variable 'subj')\n",
        "# - the random effects (which weights should vary per subject) is defined by re_formula (here, just the intercept so \"~1\")\n",
        "mod_sub = mixedlm(formula='estim ~ x1 + x2', data=df, groups=df['subj'], re_formula=\"~1\")\n",
        "\n",
        "# fit the model\n",
        "res_sub = mod_sub.fit(maxiter=500,method=\"nm\", reml=\"false\")\n",
        "\n",
        "# show summary\n",
        "res_sub.summary()"
      ]
    },
    {
      "cell_type": "markdown",
      "metadata": {
        "id": "GxbGALoWf0_H"
      },
      "source": [
        "This model gives us a similar result to what we got when we modeled subjects as fixed factors above. But actually subjects will differ not only because of their overall bias, but also because of a different weighting of stimulus information. So a better model will incorporate this variability, by adding the first and second stimuli as random factors."
      ]
    },
    {
      "cell_type": "code",
      "execution_count": null,
      "metadata": {
        "ExecuteTime": {
          "end_time": "2022-02-04T22:46:56.059655Z",
          "start_time": "2022-02-04T22:46:55.261765Z"
        },
        "id": "P8vytwORf0_I",
        "outputId": "7567ebcd-58bf-450a-b39e-6889f69abe3e"
      },
      "outputs": [
        {
          "name": "stderr",
          "output_type": "stream",
          "text": [
            "C:\\ProgramData\\Anaconda3\\lib\\site-packages\\statsmodels\\base\\model.py:604: ConvergenceWarning: Maximum Likelihood optimization failed to converge. Check mle_retvals\n",
            "  warnings.warn(\"Maximum Likelihood optimization failed to \"\n",
            "C:\\ProgramData\\Anaconda3\\lib\\site-packages\\statsmodels\\regression\\mixed_linear_model.py:2206: ConvergenceWarning: MixedLM optimization failed, trying a different optimizer may help.\n",
            "  warnings.warn(msg, ConvergenceWarning)\n",
            "C:\\ProgramData\\Anaconda3\\lib\\site-packages\\statsmodels\\regression\\mixed_linear_model.py:2218: ConvergenceWarning: Gradient optimization failed, |grad| = 22.063373\n",
            "  warnings.warn(msg, ConvergenceWarning)\n"
          ]
        },
        {
          "data": {
            "text/html": [
              "<table class=\"simpletable\">\n",
              "<tr>\n",
              "       <td>Model:</td>       <td>MixedLM</td> <td>Dependent Variable:</td>    <td>estim</td>  \n",
              "</tr>\n",
              "<tr>\n",
              "  <td>No. Observations:</td>  <td>1738</td>         <td>Method:</td>          <td>REML</td>   \n",
              "</tr>\n",
              "<tr>\n",
              "     <td>No. Groups:</td>      <td>21</td>          <td>Scale:</td>          <td>30.1139</td> \n",
              "</tr>\n",
              "<tr>\n",
              "  <td>Min. group size:</td>    <td>72</td>      <td>Log-Likelihood:</td>   <td>-5470.9465</td>\n",
              "</tr>\n",
              "<tr>\n",
              "  <td>Max. group size:</td>    <td>84</td>        <td>Converged:</td>          <td>No</td>    \n",
              "</tr>\n",
              "<tr>\n",
              "  <td>Mean group size:</td>   <td>82.8</td>            <td></td>                <td></td>     \n",
              "</tr>\n",
              "</table>\n",
              "<table class=\"simpletable\">\n",
              "<tr>\n",
              "         <td></td>         <th>Coef.</th> <th>Std.Err.</th>    <th>z</th>   <th>P>|z|</th> <th>[0.025</th> <th>0.975]</th>\n",
              "</tr>\n",
              "<tr>\n",
              "  <th>Intercept</th>      <td>50.167</td>   <td>0.502</td>  <td>99.912</td> <td>0.000</td> <td>49.183</td> <td>51.151</td>\n",
              "</tr>\n",
              "<tr>\n",
              "  <th>x1</th>              <td>0.289</td>   <td>0.046</td>   <td>6.291</td> <td>0.000</td>  <td>0.199</td>  <td>0.379</td>\n",
              "</tr>\n",
              "<tr>\n",
              "  <th>x2</th>              <td>0.365</td>   <td>0.034</td>  <td>10.696</td> <td>0.000</td>  <td>0.298</td>  <td>0.432</td>\n",
              "</tr>\n",
              "<tr>\n",
              "  <th>Group Var</th>       <td>4.904</td>   <td>0.319</td>     <td></td>      <td></td>       <td></td>       <td></td>   \n",
              "</tr>\n",
              "<tr>\n",
              "  <th>Group x x1 Cov</th> <td>-0.108</td>   <td>0.025</td>     <td></td>      <td></td>       <td></td>       <td></td>   \n",
              "</tr>\n",
              "<tr>\n",
              "  <th>x1 Var</th>          <td>0.015</td>   <td>0.004</td>     <td></td>      <td></td>       <td></td>       <td></td>   \n",
              "</tr>\n",
              "<tr>\n",
              "  <th>Group x x2 Cov</th>  <td>0.001</td>   <td>0.015</td>     <td></td>      <td></td>       <td></td>       <td></td>   \n",
              "</tr>\n",
              "<tr>\n",
              "  <th>x1 x x2 Cov</th>     <td>0.015</td>   <td>0.002</td>     <td></td>      <td></td>       <td></td>       <td></td>   \n",
              "</tr>\n",
              "<tr>\n",
              "  <th>x2 Var</th>          <td>0.017</td>   <td>0.001</td>     <td></td>      <td></td>       <td></td>       <td></td>   \n",
              "</tr>\n",
              "</table>"
            ],
            "text/plain": [
              "<class 'statsmodels.iolib.summary2.Summary'>\n",
              "\"\"\"\n",
              "          Mixed Linear Model Regression Results\n",
              "=========================================================\n",
              "Model:             MixedLM Dependent Variable: estim     \n",
              "No. Observations:  1738    Method:             REML      \n",
              "No. Groups:        21      Scale:              30.1139   \n",
              "Min. group size:   72      Log-Likelihood:     -5470.9465\n",
              "Max. group size:   84      Converged:          No        \n",
              "Mean group size:   82.8                                  \n",
              "---------------------------------------------------------\n",
              "               Coef.  Std.Err.   z    P>|z| [0.025 0.975]\n",
              "---------------------------------------------------------\n",
              "Intercept      50.167    0.502 99.912 0.000 49.183 51.151\n",
              "x1              0.289    0.046  6.291 0.000  0.199  0.379\n",
              "x2              0.365    0.034 10.696 0.000  0.298  0.432\n",
              "Group Var       4.904    0.319                           \n",
              "Group x x1 Cov -0.108    0.025                           \n",
              "x1 Var          0.015    0.004                           \n",
              "Group x x2 Cov  0.001    0.015                           \n",
              "x1 x x2 Cov     0.015    0.002                           \n",
              "x2 Var          0.017    0.001                           \n",
              "=========================================================\n",
              "\n",
              "\"\"\""
            ]
          },
          "execution_count": 24,
          "metadata": {},
          "output_type": "execute_result"
        }
      ],
      "source": [
        "from statsmodels.formula.api import mixedlm\n",
        "\n",
        "# same as above, but now the random effects include x1 and x2\n",
        "mod_sub = mixedlm(formula='estim ~ x1 + x2', data=df, groups=df['subj'], re_formula=\"~x1+x2\")\n",
        "res_sub = mod_sub.fit(maxiter=500,method=\"nm\", reml=\"false\")\n",
        "\n",
        "res_sub.summary()"
      ]
    },
    {
      "cell_type": "markdown",
      "metadata": {
        "id": "iMZMaWDXf0_I"
      },
      "source": [
        "2) we can repeat this analysis using the other method, which calls R from Python. Convince yourself that the results are similar"
      ]
    },
    {
      "cell_type": "code",
      "execution_count": null,
      "metadata": {
        "ExecuteTime": {
          "end_time": "2022-02-04T22:47:00.607034Z",
          "start_time": "2022-02-04T22:46:56.061464Z"
        },
        "id": "-7a_7Zrxf0_L"
      },
      "outputs": [],
      "source": [
        "from pymer4.models import Lmer\n",
        "\n",
        "model = Lmer('estim ~ x1 + x2 + (1 + x1 + x2|subj)', data=df)\n",
        "res = model.fit()\n",
        "print(res)"
      ]
    }
  ],
  "metadata": {
    "colab": {
      "name": "assignment_4-full.ipynb",
      "provenance": []
    },
    "hide_input": false,
    "kernelspec": {
      "display_name": "Python 3 (ipykernel)",
      "language": "python",
      "name": "python3"
    },
    "language_info": {
      "codemirror_mode": {
        "name": "ipython",
        "version": 3
      },
      "file_extension": ".py",
      "mimetype": "text/x-python",
      "name": "python",
      "nbconvert_exporter": "python",
      "pygments_lexer": "ipython3",
      "version": "3.9.13"
    },
    "toc": {
      "base_numbering": 1,
      "nav_menu": {},
      "number_sections": true,
      "sideBar": true,
      "skip_h1_title": false,
      "title_cell": "Table of Contents",
      "title_sidebar": "Contents",
      "toc_cell": false,
      "toc_position": {},
      "toc_section_display": true,
      "toc_window_display": false
    },
    "varInspector": {
      "cols": {
        "lenName": 16,
        "lenType": 16,
        "lenVar": 40
      },
      "kernels_config": {
        "python": {
          "delete_cmd_postfix": "",
          "delete_cmd_prefix": "del ",
          "library": "var_list.py",
          "varRefreshCmd": "print(var_dic_list())"
        },
        "r": {
          "delete_cmd_postfix": ") ",
          "delete_cmd_prefix": "rm(",
          "library": "var_list.r",
          "varRefreshCmd": "cat(var_dic_list()) "
        }
      },
      "types_to_exclude": [
        "module",
        "function",
        "builtin_function_or_method",
        "instance",
        "_Feature"
      ],
      "window_display": false
    },
    "widgets": {
      "application/vnd.jupyter.widget-state+json": {
        "50346513f3984231be0eed2495eea6d4": {
          "model_module": "@jupyter-widgets/controls",
          "model_name": "VBoxModel",
          "model_module_version": "1.5.0",
          "state": {
            "_dom_classes": [
              "widget-interact"
            ],
            "_model_module": "@jupyter-widgets/controls",
            "_model_module_version": "1.5.0",
            "_model_name": "VBoxModel",
            "_view_count": null,
            "_view_module": "@jupyter-widgets/controls",
            "_view_module_version": "1.5.0",
            "_view_name": "VBoxView",
            "box_style": "",
            "children": [
              "IPY_MODEL_0b59e37e4cde495c871473194d772b59",
              "IPY_MODEL_fe37d22b15fe457fae93d2f9b4f86e81",
              "IPY_MODEL_5a8342b4182f4767b34fd17630c3b45e"
            ],
            "layout": "IPY_MODEL_35c74d1ad887415eb5fd88917011d10c"
          }
        },
        "0b59e37e4cde495c871473194d772b59": {
          "model_module": "@jupyter-widgets/controls",
          "model_name": "FloatSliderModel",
          "model_module_version": "1.5.0",
          "state": {
            "_dom_classes": [],
            "_model_module": "@jupyter-widgets/controls",
            "_model_module_version": "1.5.0",
            "_model_name": "FloatSliderModel",
            "_view_count": null,
            "_view_module": "@jupyter-widgets/controls",
            "_view_module_version": "1.5.0",
            "_view_name": "FloatSliderView",
            "continuous_update": true,
            "description": "beta0",
            "description_tooltip": null,
            "disabled": false,
            "layout": "IPY_MODEL_d8a99bc9216d4b7ea77818abb79a4b58",
            "max": 50,
            "min": 0,
            "orientation": "horizontal",
            "readout": true,
            "readout_format": ".2f",
            "step": 0.1,
            "style": "IPY_MODEL_fce27af5b93a4e659d63d050c0f06a4d",
            "value": 0
          }
        },
        "fe37d22b15fe457fae93d2f9b4f86e81": {
          "model_module": "@jupyter-widgets/controls",
          "model_name": "FloatSliderModel",
          "model_module_version": "1.5.0",
          "state": {
            "_dom_classes": [],
            "_model_module": "@jupyter-widgets/controls",
            "_model_module_version": "1.5.0",
            "_model_name": "FloatSliderModel",
            "_view_count": null,
            "_view_module": "@jupyter-widgets/controls",
            "_view_module_version": "1.5.0",
            "_view_name": "FloatSliderView",
            "continuous_update": true,
            "description": "beta1",
            "description_tooltip": null,
            "disabled": false,
            "layout": "IPY_MODEL_068a31f737794be8887fa2895e0a19a5",
            "max": 1,
            "min": 0,
            "orientation": "horizontal",
            "readout": true,
            "readout_format": ".2f",
            "step": 0.1,
            "style": "IPY_MODEL_e52e8512d08d4d9db1afed4a33e70ab6",
            "value": 1
          }
        },
        "5a8342b4182f4767b34fd17630c3b45e": {
          "model_module": "@jupyter-widgets/output",
          "model_name": "OutputModel",
          "model_module_version": "1.0.0",
          "state": {
            "_dom_classes": [],
            "_model_module": "@jupyter-widgets/output",
            "_model_module_version": "1.0.0",
            "_model_name": "OutputModel",
            "_view_count": null,
            "_view_module": "@jupyter-widgets/output",
            "_view_module_version": "1.0.0",
            "_view_name": "OutputView",
            "layout": "IPY_MODEL_4f7696137fd8419c921aa4b0022630bf",
            "msg_id": "",
            "outputs": [
              {
                "output_type": "display_data",
                "data": {
                  "text/plain": "<Figure size 640x480 with 1 Axes>",
                  "image/png": "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\n"
                },
                "metadata": {}
              }
            ]
          }
        },
        "35c74d1ad887415eb5fd88917011d10c": {
          "model_module": "@jupyter-widgets/base",
          "model_name": "LayoutModel",
          "model_module_version": "1.2.0",
          "state": {
            "_model_module": "@jupyter-widgets/base",
            "_model_module_version": "1.2.0",
            "_model_name": "LayoutModel",
            "_view_count": null,
            "_view_module": "@jupyter-widgets/base",
            "_view_module_version": "1.2.0",
            "_view_name": "LayoutView",
            "align_content": null,
            "align_items": null,
            "align_self": null,
            "border": null,
            "bottom": null,
            "display": null,
            "flex": null,
            "flex_flow": null,
            "grid_area": null,
            "grid_auto_columns": null,
            "grid_auto_flow": null,
            "grid_auto_rows": null,
            "grid_column": null,
            "grid_gap": null,
            "grid_row": null,
            "grid_template_areas": null,
            "grid_template_columns": null,
            "grid_template_rows": null,
            "height": null,
            "justify_content": null,
            "justify_items": null,
            "left": null,
            "margin": null,
            "max_height": null,
            "max_width": null,
            "min_height": null,
            "min_width": null,
            "object_fit": null,
            "object_position": null,
            "order": null,
            "overflow": null,
            "overflow_x": null,
            "overflow_y": null,
            "padding": null,
            "right": null,
            "top": null,
            "visibility": null,
            "width": null
          }
        },
        "d8a99bc9216d4b7ea77818abb79a4b58": {
          "model_module": "@jupyter-widgets/base",
          "model_name": "LayoutModel",
          "model_module_version": "1.2.0",
          "state": {
            "_model_module": "@jupyter-widgets/base",
            "_model_module_version": "1.2.0",
            "_model_name": "LayoutModel",
            "_view_count": null,
            "_view_module": "@jupyter-widgets/base",
            "_view_module_version": "1.2.0",
            "_view_name": "LayoutView",
            "align_content": null,
            "align_items": null,
            "align_self": null,
            "border": null,
            "bottom": null,
            "display": null,
            "flex": null,
            "flex_flow": null,
            "grid_area": null,
            "grid_auto_columns": null,
            "grid_auto_flow": null,
            "grid_auto_rows": null,
            "grid_column": null,
            "grid_gap": null,
            "grid_row": null,
            "grid_template_areas": null,
            "grid_template_columns": null,
            "grid_template_rows": null,
            "height": null,
            "justify_content": null,
            "justify_items": null,
            "left": null,
            "margin": null,
            "max_height": null,
            "max_width": null,
            "min_height": null,
            "min_width": null,
            "object_fit": null,
            "object_position": null,
            "order": null,
            "overflow": null,
            "overflow_x": null,
            "overflow_y": null,
            "padding": null,
            "right": null,
            "top": null,
            "visibility": null,
            "width": null
          }
        },
        "fce27af5b93a4e659d63d050c0f06a4d": {
          "model_module": "@jupyter-widgets/controls",
          "model_name": "SliderStyleModel",
          "model_module_version": "1.5.0",
          "state": {
            "_model_module": "@jupyter-widgets/controls",
            "_model_module_version": "1.5.0",
            "_model_name": "SliderStyleModel",
            "_view_count": null,
            "_view_module": "@jupyter-widgets/base",
            "_view_module_version": "1.2.0",
            "_view_name": "StyleView",
            "description_width": "",
            "handle_color": null
          }
        },
        "068a31f737794be8887fa2895e0a19a5": {
          "model_module": "@jupyter-widgets/base",
          "model_name": "LayoutModel",
          "model_module_version": "1.2.0",
          "state": {
            "_model_module": "@jupyter-widgets/base",
            "_model_module_version": "1.2.0",
            "_model_name": "LayoutModel",
            "_view_count": null,
            "_view_module": "@jupyter-widgets/base",
            "_view_module_version": "1.2.0",
            "_view_name": "LayoutView",
            "align_content": null,
            "align_items": null,
            "align_self": null,
            "border": null,
            "bottom": null,
            "display": null,
            "flex": null,
            "flex_flow": null,
            "grid_area": null,
            "grid_auto_columns": null,
            "grid_auto_flow": null,
            "grid_auto_rows": null,
            "grid_column": null,
            "grid_gap": null,
            "grid_row": null,
            "grid_template_areas": null,
            "grid_template_columns": null,
            "grid_template_rows": null,
            "height": null,
            "justify_content": null,
            "justify_items": null,
            "left": null,
            "margin": null,
            "max_height": null,
            "max_width": null,
            "min_height": null,
            "min_width": null,
            "object_fit": null,
            "object_position": null,
            "order": null,
            "overflow": null,
            "overflow_x": null,
            "overflow_y": null,
            "padding": null,
            "right": null,
            "top": null,
            "visibility": null,
            "width": null
          }
        },
        "e52e8512d08d4d9db1afed4a33e70ab6": {
          "model_module": "@jupyter-widgets/controls",
          "model_name": "SliderStyleModel",
          "model_module_version": "1.5.0",
          "state": {
            "_model_module": "@jupyter-widgets/controls",
            "_model_module_version": "1.5.0",
            "_model_name": "SliderStyleModel",
            "_view_count": null,
            "_view_module": "@jupyter-widgets/base",
            "_view_module_version": "1.2.0",
            "_view_name": "StyleView",
            "description_width": "",
            "handle_color": null
          }
        },
        "4f7696137fd8419c921aa4b0022630bf": {
          "model_module": "@jupyter-widgets/base",
          "model_name": "LayoutModel",
          "model_module_version": "1.2.0",
          "state": {
            "_model_module": "@jupyter-widgets/base",
            "_model_module_version": "1.2.0",
            "_model_name": "LayoutModel",
            "_view_count": null,
            "_view_module": "@jupyter-widgets/base",
            "_view_module_version": "1.2.0",
            "_view_name": "LayoutView",
            "align_content": null,
            "align_items": null,
            "align_self": null,
            "border": null,
            "bottom": null,
            "display": null,
            "flex": null,
            "flex_flow": null,
            "grid_area": null,
            "grid_auto_columns": null,
            "grid_auto_flow": null,
            "grid_auto_rows": null,
            "grid_column": null,
            "grid_gap": null,
            "grid_row": null,
            "grid_template_areas": null,
            "grid_template_columns": null,
            "grid_template_rows": null,
            "height": null,
            "justify_content": null,
            "justify_items": null,
            "left": null,
            "margin": null,
            "max_height": null,
            "max_width": null,
            "min_height": null,
            "min_width": null,
            "object_fit": null,
            "object_position": null,
            "order": null,
            "overflow": null,
            "overflow_x": null,
            "overflow_y": null,
            "padding": null,
            "right": null,
            "top": null,
            "visibility": null,
            "width": null
          }
        },
        "9aa636bf773646ffa13e21a172dce78a": {
          "model_module": "@jupyter-widgets/controls",
          "model_name": "VBoxModel",
          "model_module_version": "1.5.0",
          "state": {
            "_dom_classes": [
              "widget-interact"
            ],
            "_model_module": "@jupyter-widgets/controls",
            "_model_module_version": "1.5.0",
            "_model_name": "VBoxModel",
            "_view_count": null,
            "_view_module": "@jupyter-widgets/controls",
            "_view_module_version": "1.5.0",
            "_view_name": "VBoxView",
            "box_style": "",
            "children": [
              "IPY_MODEL_bb6f173826294d7a94b961407724d315",
              "IPY_MODEL_535ee623c8594ed3b6d7e504a678c0dc",
              "IPY_MODEL_7cd6886afac5403f808f2acfda158495",
              "IPY_MODEL_5dcc19d1f1f447ae846c6a4a31748327"
            ],
            "layout": "IPY_MODEL_d3ce7e0772ae480281d4793722987c17"
          }
        },
        "bb6f173826294d7a94b961407724d315": {
          "model_module": "@jupyter-widgets/controls",
          "model_name": "FloatSliderModel",
          "model_module_version": "1.5.0",
          "state": {
            "_dom_classes": [],
            "_model_module": "@jupyter-widgets/controls",
            "_model_module_version": "1.5.0",
            "_model_name": "FloatSliderModel",
            "_view_count": null,
            "_view_module": "@jupyter-widgets/controls",
            "_view_module_version": "1.5.0",
            "_view_name": "FloatSliderView",
            "continuous_update": true,
            "description": "beta0",
            "description_tooltip": null,
            "disabled": false,
            "layout": "IPY_MODEL_f8a5671e83f248dd89c3cc6f8b55c52d",
            "max": 50,
            "min": 0,
            "orientation": "horizontal",
            "readout": true,
            "readout_format": ".2f",
            "step": 0.1,
            "style": "IPY_MODEL_1046621fb95c4ef8afee98cc60b9f8a8",
            "value": 21
          }
        },
        "535ee623c8594ed3b6d7e504a678c0dc": {
          "model_module": "@jupyter-widgets/controls",
          "model_name": "FloatSliderModel",
          "model_module_version": "1.5.0",
          "state": {
            "_dom_classes": [],
            "_model_module": "@jupyter-widgets/controls",
            "_model_module_version": "1.5.0",
            "_model_name": "FloatSliderModel",
            "_view_count": null,
            "_view_module": "@jupyter-widgets/controls",
            "_view_module_version": "1.5.0",
            "_view_name": "FloatSliderView",
            "continuous_update": true,
            "description": "beta1",
            "description_tooltip": null,
            "disabled": false,
            "layout": "IPY_MODEL_8c614eeef7b643b69e5ed8e0312524e1",
            "max": 1,
            "min": 0,
            "orientation": "horizontal",
            "readout": true,
            "readout_format": ".2f",
            "step": 0.1,
            "style": "IPY_MODEL_d1a778fbd1df4d1580f2862cb9047570",
            "value": 0.6
          }
        },
        "7cd6886afac5403f808f2acfda158495": {
          "model_module": "@jupyter-widgets/controls",
          "model_name": "FloatSliderModel",
          "model_module_version": "1.5.0",
          "state": {
            "_dom_classes": [],
            "_model_module": "@jupyter-widgets/controls",
            "_model_module_version": "1.5.0",
            "_model_name": "FloatSliderModel",
            "_view_count": null,
            "_view_module": "@jupyter-widgets/controls",
            "_view_module_version": "1.5.0",
            "_view_name": "FloatSliderView",
            "continuous_update": true,
            "description": "sigma",
            "description_tooltip": null,
            "disabled": false,
            "layout": "IPY_MODEL_03c435a8480d4ab18b7c336c2467f651",
            "max": 20,
            "min": 0,
            "orientation": "horizontal",
            "readout": true,
            "readout_format": ".2f",
            "step": 0.1,
            "style": "IPY_MODEL_ec114b9296e34e65b744a6ccbbb55ef1",
            "value": 5.5
          }
        },
        "5dcc19d1f1f447ae846c6a4a31748327": {
          "model_module": "@jupyter-widgets/output",
          "model_name": "OutputModel",
          "model_module_version": "1.0.0",
          "state": {
            "_dom_classes": [],
            "_model_module": "@jupyter-widgets/output",
            "_model_module_version": "1.0.0",
            "_model_name": "OutputModel",
            "_view_count": null,
            "_view_module": "@jupyter-widgets/output",
            "_view_module_version": "1.0.0",
            "_view_name": "OutputView",
            "layout": "IPY_MODEL_82d730b1d3cd4f8eb079633cd30f2ba4",
            "msg_id": "",
            "outputs": [
              {
                "output_type": "display_data",
                "data": {
                  "text/plain": "<Figure size 640x480 with 1 Axes>",
                  "image/png": "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\n"
                },
                "metadata": {}
              }
            ]
          }
        },
        "d3ce7e0772ae480281d4793722987c17": {
          "model_module": "@jupyter-widgets/base",
          "model_name": "LayoutModel",
          "model_module_version": "1.2.0",
          "state": {
            "_model_module": "@jupyter-widgets/base",
            "_model_module_version": "1.2.0",
            "_model_name": "LayoutModel",
            "_view_count": null,
            "_view_module": "@jupyter-widgets/base",
            "_view_module_version": "1.2.0",
            "_view_name": "LayoutView",
            "align_content": null,
            "align_items": null,
            "align_self": null,
            "border": null,
            "bottom": null,
            "display": null,
            "flex": null,
            "flex_flow": null,
            "grid_area": null,
            "grid_auto_columns": null,
            "grid_auto_flow": null,
            "grid_auto_rows": null,
            "grid_column": null,
            "grid_gap": null,
            "grid_row": null,
            "grid_template_areas": null,
            "grid_template_columns": null,
            "grid_template_rows": null,
            "height": null,
            "justify_content": null,
            "justify_items": null,
            "left": null,
            "margin": null,
            "max_height": null,
            "max_width": null,
            "min_height": null,
            "min_width": null,
            "object_fit": null,
            "object_position": null,
            "order": null,
            "overflow": null,
            "overflow_x": null,
            "overflow_y": null,
            "padding": null,
            "right": null,
            "top": null,
            "visibility": null,
            "width": null
          }
        },
        "f8a5671e83f248dd89c3cc6f8b55c52d": {
          "model_module": "@jupyter-widgets/base",
          "model_name": "LayoutModel",
          "model_module_version": "1.2.0",
          "state": {
            "_model_module": "@jupyter-widgets/base",
            "_model_module_version": "1.2.0",
            "_model_name": "LayoutModel",
            "_view_count": null,
            "_view_module": "@jupyter-widgets/base",
            "_view_module_version": "1.2.0",
            "_view_name": "LayoutView",
            "align_content": null,
            "align_items": null,
            "align_self": null,
            "border": null,
            "bottom": null,
            "display": null,
            "flex": null,
            "flex_flow": null,
            "grid_area": null,
            "grid_auto_columns": null,
            "grid_auto_flow": null,
            "grid_auto_rows": null,
            "grid_column": null,
            "grid_gap": null,
            "grid_row": null,
            "grid_template_areas": null,
            "grid_template_columns": null,
            "grid_template_rows": null,
            "height": null,
            "justify_content": null,
            "justify_items": null,
            "left": null,
            "margin": null,
            "max_height": null,
            "max_width": null,
            "min_height": null,
            "min_width": null,
            "object_fit": null,
            "object_position": null,
            "order": null,
            "overflow": null,
            "overflow_x": null,
            "overflow_y": null,
            "padding": null,
            "right": null,
            "top": null,
            "visibility": null,
            "width": null
          }
        },
        "1046621fb95c4ef8afee98cc60b9f8a8": {
          "model_module": "@jupyter-widgets/controls",
          "model_name": "SliderStyleModel",
          "model_module_version": "1.5.0",
          "state": {
            "_model_module": "@jupyter-widgets/controls",
            "_model_module_version": "1.5.0",
            "_model_name": "SliderStyleModel",
            "_view_count": null,
            "_view_module": "@jupyter-widgets/base",
            "_view_module_version": "1.2.0",
            "_view_name": "StyleView",
            "description_width": "",
            "handle_color": null
          }
        },
        "8c614eeef7b643b69e5ed8e0312524e1": {
          "model_module": "@jupyter-widgets/base",
          "model_name": "LayoutModel",
          "model_module_version": "1.2.0",
          "state": {
            "_model_module": "@jupyter-widgets/base",
            "_model_module_version": "1.2.0",
            "_model_name": "LayoutModel",
            "_view_count": null,
            "_view_module": "@jupyter-widgets/base",
            "_view_module_version": "1.2.0",
            "_view_name": "LayoutView",
            "align_content": null,
            "align_items": null,
            "align_self": null,
            "border": null,
            "bottom": null,
            "display": null,
            "flex": null,
            "flex_flow": null,
            "grid_area": null,
            "grid_auto_columns": null,
            "grid_auto_flow": null,
            "grid_auto_rows": null,
            "grid_column": null,
            "grid_gap": null,
            "grid_row": null,
            "grid_template_areas": null,
            "grid_template_columns": null,
            "grid_template_rows": null,
            "height": null,
            "justify_content": null,
            "justify_items": null,
            "left": null,
            "margin": null,
            "max_height": null,
            "max_width": null,
            "min_height": null,
            "min_width": null,
            "object_fit": null,
            "object_position": null,
            "order": null,
            "overflow": null,
            "overflow_x": null,
            "overflow_y": null,
            "padding": null,
            "right": null,
            "top": null,
            "visibility": null,
            "width": null
          }
        },
        "d1a778fbd1df4d1580f2862cb9047570": {
          "model_module": "@jupyter-widgets/controls",
          "model_name": "SliderStyleModel",
          "model_module_version": "1.5.0",
          "state": {
            "_model_module": "@jupyter-widgets/controls",
            "_model_module_version": "1.5.0",
            "_model_name": "SliderStyleModel",
            "_view_count": null,
            "_view_module": "@jupyter-widgets/base",
            "_view_module_version": "1.2.0",
            "_view_name": "StyleView",
            "description_width": "",
            "handle_color": null
          }
        },
        "03c435a8480d4ab18b7c336c2467f651": {
          "model_module": "@jupyter-widgets/base",
          "model_name": "LayoutModel",
          "model_module_version": "1.2.0",
          "state": {
            "_model_module": "@jupyter-widgets/base",
            "_model_module_version": "1.2.0",
            "_model_name": "LayoutModel",
            "_view_count": null,
            "_view_module": "@jupyter-widgets/base",
            "_view_module_version": "1.2.0",
            "_view_name": "LayoutView",
            "align_content": null,
            "align_items": null,
            "align_self": null,
            "border": null,
            "bottom": null,
            "display": null,
            "flex": null,
            "flex_flow": null,
            "grid_area": null,
            "grid_auto_columns": null,
            "grid_auto_flow": null,
            "grid_auto_rows": null,
            "grid_column": null,
            "grid_gap": null,
            "grid_row": null,
            "grid_template_areas": null,
            "grid_template_columns": null,
            "grid_template_rows": null,
            "height": null,
            "justify_content": null,
            "justify_items": null,
            "left": null,
            "margin": null,
            "max_height": null,
            "max_width": null,
            "min_height": null,
            "min_width": null,
            "object_fit": null,
            "object_position": null,
            "order": null,
            "overflow": null,
            "overflow_x": null,
            "overflow_y": null,
            "padding": null,
            "right": null,
            "top": null,
            "visibility": null,
            "width": null
          }
        },
        "ec114b9296e34e65b744a6ccbbb55ef1": {
          "model_module": "@jupyter-widgets/controls",
          "model_name": "SliderStyleModel",
          "model_module_version": "1.5.0",
          "state": {
            "_model_module": "@jupyter-widgets/controls",
            "_model_module_version": "1.5.0",
            "_model_name": "SliderStyleModel",
            "_view_count": null,
            "_view_module": "@jupyter-widgets/base",
            "_view_module_version": "1.2.0",
            "_view_name": "StyleView",
            "description_width": "",
            "handle_color": null
          }
        },
        "82d730b1d3cd4f8eb079633cd30f2ba4": {
          "model_module": "@jupyter-widgets/base",
          "model_name": "LayoutModel",
          "model_module_version": "1.2.0",
          "state": {
            "_model_module": "@jupyter-widgets/base",
            "_model_module_version": "1.2.0",
            "_model_name": "LayoutModel",
            "_view_count": null,
            "_view_module": "@jupyter-widgets/base",
            "_view_module_version": "1.2.0",
            "_view_name": "LayoutView",
            "align_content": null,
            "align_items": null,
            "align_self": null,
            "border": null,
            "bottom": null,
            "display": null,
            "flex": null,
            "flex_flow": null,
            "grid_area": null,
            "grid_auto_columns": null,
            "grid_auto_flow": null,
            "grid_auto_rows": null,
            "grid_column": null,
            "grid_gap": null,
            "grid_row": null,
            "grid_template_areas": null,
            "grid_template_columns": null,
            "grid_template_rows": null,
            "height": null,
            "justify_content": null,
            "justify_items": null,
            "left": null,
            "margin": null,
            "max_height": null,
            "max_width": null,
            "min_height": null,
            "min_width": null,
            "object_fit": null,
            "object_position": null,
            "order": null,
            "overflow": null,
            "overflow_x": null,
            "overflow_y": null,
            "padding": null,
            "right": null,
            "top": null,
            "visibility": null,
            "width": null
          }
        }
      }
    }
  },
  "nbformat": 4,
  "nbformat_minor": 0
}